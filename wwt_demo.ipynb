{
 "cells": [
  {
   "cell_type": "markdown",
   "id": "earlier-daily",
   "metadata": {},
   "source": [
    "## Visualization Demo\n",
    "\n",
    "This demonstration of visualizatioin uses the [PyWWT package](https://pywwt.readthedocs.io/en/stable/)  as well as catalog access and image retrieval with [PyVO](https://pyvo.readthedocs.io/en/latest/).  For more about how to use the latter, see the [python notebooks](https://heasarc.gsfc.nasa.gov/navo/summary/python.html) developed by the NASA archives.  "
   ]
  },
  {
   "cell_type": "code",
   "execution_count": 1,
   "id": "amateur-composite",
   "metadata": {},
   "outputs": [
    {
     "data": {
      "application/vnd.jupyter.widget-view+json": {
       "model_id": "c9dc3b1cb1644309a285fe27408857f9",
       "version_major": 2,
       "version_minor": 0
      },
      "text/plain": [
       "WWTJupyterWidget(layout=Layout(align_self='stretch', height='400px'))"
      ]
     },
     "metadata": {},
     "output_type": "display_data"
    }
   ],
   "source": [
    "## Two ways to do this.  If you open the WWT App through \n",
    "##  the JupyterLab Launcher, here's how to connect to it:\n",
    "#from pywwt.jupyter import connect_to_app\n",
    "#wwt = connect_to_app()\n",
    "## Or you can open the widget in this notebook\n",
    "import warnings\n",
    "from astropy.io import fits\n",
    "from astropy.utils.data import download_file\n",
    "from astropy import units as u\n",
    "\n",
    "import matplotlib.pyplot as plt\n",
    "\n",
    "\n",
    "import astropy.coordinates as coord\n",
    "import pyvo as vo\n",
    "warnings.filterwarnings('ignore', '.*Unknown element mirrorURL.*', vo.utils.xml.elements.UnknownElementWarning)\n",
    "\n",
    "from pywwt.jupyter import WWTJupyterWidget\n",
    "wwt = WWTJupyterWidget()\n",
    "wwt"
   ]
  },
  {
   "cell_type": "markdown",
   "id": "acoustic-matter",
   "metadata": {},
   "source": [
    "The widget opens up with a default view. Let's set the background to Halpha emission and the field of view to center on the crab.  You can do the pan and zoom with your mouse or with the command below.  "
   ]
  },
  {
   "cell_type": "code",
   "execution_count": 2,
   "id": "emotional-festival",
   "metadata": {},
   "outputs": [],
   "source": [
    "wwt.background = 'Hydrogen Alpha Full Sky Map' \n",
    "coords=coord.SkyCoord.from_name('crab')\n",
    "from astropy import units as u\n",
    "wwt.center_on_coordinates(coords,fov=5*u.arcmin)\n"
   ]
  },
  {
   "cell_type": "markdown",
   "id": "elegant-breast",
   "metadata": {},
   "source": [
    "Now we're going to look for Chandra observations of the crab using a query to the HEASARC catalog service.  Let's just get the top 10 deepest exposures:"
   ]
  },
  {
   "cell_type": "code",
   "execution_count": 3,
   "id": "intended-millennium",
   "metadata": {
    "scrolled": true
   },
   "outputs": [
    {
     "data": {
      "text/html": [
       "<i>Table length=10</i>\n",
       "<table id=\"table139704900770256\" class=\"table-striped table-bordered table-condensed\">\n",
       "<thead><tr><th>__row</th><th>obsid</th><th>status</th><th>name</th><th>ra</th><th>dec</th><th>lii</th><th>bii</th><th>time</th><th>detector</th><th>grating</th><th>exposure</th><th>type</th><th>pi</th><th>cycle</th><th>proposal</th><th>public_date</th><th>sequence_number</th><th>data_mode</th><th>category</th><th>class</th><th>__x_ra_dec</th><th>__y_ra_dec</th><th>__z_ra_dec</th></tr></thead>\n",
       "<thead><tr><th></th><th></th><th></th><th></th><th>deg</th><th>deg</th><th>deg</th><th>deg</th><th>mjd</th><th></th><th></th><th>s</th><th></th><th></th><th></th><th></th><th>mjd</th><th></th><th></th><th></th><th></th><th></th><th></th><th></th></tr></thead>\n",
       "<thead><tr><th>object</th><th>int32</th><th>object</th><th>object</th><th>float64</th><th>float64</th><th>float64</th><th>float64</th><th>float64</th><th>object</th><th>object</th><th>float64</th><th>object</th><th>object</th><th>int16</th><th>object</th><th>int32</th><th>int32</th><th>object</th><th>object</th><th>int16</th><th>float64</th><th>float64</th><th>float64</th></tr></thead>\n",
       "<tr><td>13188</td><td>759</td><td>archived</td><td>CRAB PULSAR</td><td>83.63333</td><td>22.01444</td><td>184.55762</td><td>-5.78420</td><td>51576.4384953704</td><td>HRC-S</td><td>LETG</td><td>45430</td><td>GO</td><td>Weisskopf</td><td>1</td><td>01500806</td><td>51998</td><td>500055</td><td>OBS00759</td><td>SN, SNR AND ISOLATED NS</td><td>3200</td><td>0.921371678358821</td><td>0.102805705829355</td><td>0.374840255531842</td></tr>\n",
       "<tr><td>13189</td><td>758</td><td>archived</td><td>CRAB PULSAR</td><td>83.63333</td><td>22.01444</td><td>184.55762</td><td>-5.78420</td><td>51574.0518402778</td><td>HRC-S</td><td>LETG</td><td>100220</td><td>GO</td><td>Weisskopf</td><td>1</td><td>01500806</td><td>52026</td><td>500054</td><td>OBS00758</td><td>SN, SNR AND ISOLATED NS</td><td>3200</td><td>0.921371678358821</td><td>0.102805705829355</td><td>0.374840255531842</td></tr>\n",
       "<tr><td>13190</td><td>9765</td><td>archived</td><td>CRAB PULSAR</td><td>83.63333</td><td>22.01444</td><td>184.55762</td><td>-5.78420</td><td>54487.6647800926</td><td>HRC-S</td><td>LETG</td><td>96170</td><td>GO</td><td>Weisskopf</td><td>1</td><td>01500806</td><td>54856</td><td>501013</td><td>S_TIMING</td><td>SN, SNR AND ISOLATED NS</td><td>3200</td><td>0.921371678358821</td><td>0.102805705829355</td><td>0.374840255531842</td></tr>\n",
       "<tr><td>13191</td><td>4607</td><td>archived</td><td>Crab Nebula</td><td>83.63333</td><td>22.01444</td><td>184.55762</td><td>-5.78420</td><td>53031.0498032407</td><td>ACIS-S</td><td>NONE</td><td>37740</td><td>GO</td><td>Seward</td><td>5</td><td>05500128</td><td>53399</td><td>500432</td><td>TE_00662</td><td>SN, SNR AND ISOLATED NS</td><td>3200</td><td>0.921371678358821</td><td>0.102805705829355</td><td>0.374840255531842</td></tr>\n",
       "<tr><td>13192</td><td>9764</td><td>archived</td><td>CRAB PULSAR</td><td>83.63333</td><td>22.01444</td><td>184.55762</td><td>-5.78420</td><td>54461.479224537</td><td>HRC-S</td><td>LETG</td><td>3750</td><td>GO</td><td>Weisskopf</td><td>1</td><td>01500806</td><td>54828</td><td>501012</td><td>S_TIMING</td><td>SN, SNR AND ISOLATED NS</td><td>3200</td><td>0.921371678358821</td><td>0.102805705829355</td><td>0.374840255531842</td></tr>\n",
       "<tr><td>13193</td><td>8548</td><td>archived</td><td>CRAB PULSAR</td><td>83.63333</td><td>22.01444</td><td>184.55762</td><td>-5.78420</td><td>54369.4925115741</td><td>HRC-S</td><td>LETG</td><td>9130</td><td>GO</td><td>Weisskopf</td><td>1</td><td>01500806</td><td>54737</td><td>500823</td><td>S_TIMING</td><td>SN, SNR AND ISOLATED NS</td><td>3200</td><td>0.921371678358821</td><td>0.102805705829355</td><td>0.374840255531842</td></tr>\n",
       "<tr><td>13194</td><td>3831</td><td>archived</td><td>CRAB PULSAR</td><td>83.63333</td><td>22.01444</td><td>184.55762</td><td>-5.78420</td><td>52908.8219791667</td><td>HRC-S</td><td>LETG</td><td>8830</td><td>GTO</td><td>Predehl</td><td>4</td><td>04500034</td><td>53277</td><td>500310</td><td>OBS03831</td><td>SN, SNR AND ISOLATED NS</td><td>3200</td><td>0.921371678358821</td><td>0.102805705829355</td><td>0.374840255531842</td></tr>\n",
       "<tr><td>13195</td><td>7587</td><td>archived</td><td>Crab Pulsar</td><td>83.63292</td><td>22.01447</td><td>184.55739</td><td>-5.78450</td><td>54134.4159375</td><td>ACIS-S</td><td>HETG</td><td>46180500</td><td>GTO</td><td>Canizares</td><td>8</td><td>08500060</td><td>54502</td><td>500719</td><td>TE_0077C</td><td>SN, SNR AND ISOLATED NS</td><td>3200</td><td>0.92137074761761</td><td>0.10281227725869</td><td>0.374840740954673</td></tr>\n",
       "<tr><td>13196</td><td>772</td><td>archived</td><td>CRAB NEBULA</td><td>83.63292</td><td>22.01447</td><td>184.55739</td><td>-5.78450</td><td>51589.9649074074</td><td>ACIS-S</td><td>NONE</td><td>1840</td><td>GO</td><td>HESTER</td><td>1</td><td>01500847</td><td>51975</td><td>500068</td><td>TE_0029E</td><td>SN, SNR AND ISOLATED NS</td><td>3200</td><td>0.92137074761761</td><td>0.10281227725869</td><td>0.374840740954673</td></tr>\n",
       "<tr><td>13197</td><td>771</td><td>archived</td><td>CRAB NEBULA</td><td>83.63292</td><td>22.01447</td><td>184.55739</td><td>-5.78450</td><td>51581.3904166667</td><td>ACIS-S</td><td>NONE</td><td>1910</td><td>GO</td><td>HESTER</td><td>1</td><td>01500847</td><td>51975</td><td>500067</td><td>TE_0029E</td><td>SN, SNR AND ISOLATED NS</td><td>3200</td><td>0.92137074761761</td><td>0.10281227725869</td><td>0.374840740954673</td></tr>\n",
       "</table>"
      ],
      "text/plain": [
       "<Table length=10>\n",
       "__row  obsid  status      name       ra      dec       lii      bii    ... sequence_number data_mode         category        class     __x_ra_dec        __y_ra_dec        __z_ra_dec   \n",
       "                                    deg      deg       deg      deg    ...                                                                                                              \n",
       "object int32  object     object   float64  float64   float64  float64  ...      int32        object           object         int16      float64           float64           float64     \n",
       "------ ----- -------- ----------- -------- -------- --------- -------- ... --------------- --------- ----------------------- ----- ----------------- ----------------- -----------------\n",
       " 13188   759 archived CRAB PULSAR 83.63333 22.01444 184.55762 -5.78420 ...          500055  OBS00759 SN, SNR AND ISOLATED NS  3200 0.921371678358821 0.102805705829355 0.374840255531842\n",
       " 13189   758 archived CRAB PULSAR 83.63333 22.01444 184.55762 -5.78420 ...          500054  OBS00758 SN, SNR AND ISOLATED NS  3200 0.921371678358821 0.102805705829355 0.374840255531842\n",
       " 13190  9765 archived CRAB PULSAR 83.63333 22.01444 184.55762 -5.78420 ...          501013  S_TIMING SN, SNR AND ISOLATED NS  3200 0.921371678358821 0.102805705829355 0.374840255531842\n",
       " 13191  4607 archived Crab Nebula 83.63333 22.01444 184.55762 -5.78420 ...          500432  TE_00662 SN, SNR AND ISOLATED NS  3200 0.921371678358821 0.102805705829355 0.374840255531842\n",
       " 13192  9764 archived CRAB PULSAR 83.63333 22.01444 184.55762 -5.78420 ...          501012  S_TIMING SN, SNR AND ISOLATED NS  3200 0.921371678358821 0.102805705829355 0.374840255531842\n",
       " 13193  8548 archived CRAB PULSAR 83.63333 22.01444 184.55762 -5.78420 ...          500823  S_TIMING SN, SNR AND ISOLATED NS  3200 0.921371678358821 0.102805705829355 0.374840255531842\n",
       " 13194  3831 archived CRAB PULSAR 83.63333 22.01444 184.55762 -5.78420 ...          500310  OBS03831 SN, SNR AND ISOLATED NS  3200 0.921371678358821 0.102805705829355 0.374840255531842\n",
       " 13195  7587 archived Crab Pulsar 83.63292 22.01447 184.55739 -5.78450 ...          500719  TE_0077C SN, SNR AND ISOLATED NS  3200  0.92137074761761  0.10281227725869 0.374840740954673\n",
       " 13196   772 archived CRAB NEBULA 83.63292 22.01447 184.55739 -5.78450 ...          500068  TE_0029E SN, SNR AND ISOLATED NS  3200  0.92137074761761  0.10281227725869 0.374840740954673\n",
       " 13197   771 archived CRAB NEBULA 83.63292 22.01447 184.55739 -5.78450 ...          500067  TE_0029E SN, SNR AND ISOLATED NS  3200  0.92137074761761  0.10281227725869 0.374840740954673"
      ]
     },
     "execution_count": 3,
     "metadata": {},
     "output_type": "execute_result"
    }
   ],
   "source": [
    "#  Get the TAP service from the Registry.  \n",
    "heasarc=vo.regsearch(servicetype='tap',keywords=['heasarc'])[0]\n",
    "query=f\"\"\"SELECT top 10 * \n",
    "    FROM chanmaster\n",
    "    WHERE 1=CONTAINS(POINT('ICRS', ra, dec),CIRCLE('ICRS', {coords.ra.deg}, {coords.dec.deg}, 1))  \n",
    " \"\"\"\n",
    "\n",
    "results=heasarc.search(query)\n",
    "results.to_table()"
   ]
  },
  {
   "cell_type": "markdown",
   "id": "turned-midnight",
   "metadata": {},
   "source": [
    "Now that we have a list of observations, we can see what data products are available for them using the getdatalink() function look for a FITS image to display.  Each observation has a list of things you can retrieve, some of which are further links to browse deeper into the HEASARC archive.  This function below recurses down a given observation to find products of a given type:"
   ]
  },
  {
   "cell_type": "code",
   "execution_count": 4,
   "id": "advanced-halloween",
   "metadata": {},
   "outputs": [],
   "source": [
    "def linkwalker( result, level, keyword=None, ctype=None,returnFirst=True):\n",
    "    try:\n",
    "        result2=result.getdatalink()\n",
    "        if keyword is None and ctype is None:\n",
    "            print(result2.to_table()['description','content_type'])\n",
    "        else:\n",
    "            for i,r in enumerate(result2.to_table()):\n",
    "                if keyword is not None and keyword.lower() not in r['description'].lower():\n",
    "                    continue \n",
    "                if ctype is not None and ctype.lower() not in r['content_type'].lower():\n",
    "                    continue\n",
    "                print(f\"Found match in level {level}\")\n",
    "                return(result2[i])\n",
    "    except Exception as e:\n",
    "        print(\"Exception {}\".format(e))\n",
    "        return\n",
    "    for link in [l for l in result2 if \"datalink\" in l.content_type]:\n",
    "        x=linkwalker(link, level+1, keyword,ctype)\n",
    "        if x is not None:\n",
    "            return(x)\n",
    "    return"
   ]
  },
  {
   "cell_type": "markdown",
   "id": "virtual-surname",
   "metadata": {},
   "source": [
    "Not all of these observations have a FITS image available.  You can browse them, or loop over them, as you wish.  You'll find that the 9th row (counting from 0) has a decent looking image:"
   ]
  },
  {
   "cell_type": "code",
   "execution_count": 5,
   "id": "stock-yield",
   "metadata": {},
   "outputs": [
    {
     "name": "stdout",
     "output_type": "stream",
     "text": [
      "Found match in level 2\n"
     ]
    },
    {
     "data": {
      "text/plain": [
       "<matplotlib.image.AxesImage at 0x7f0f94c73cd0>"
      ]
     },
     "execution_count": 5,
     "metadata": {},
     "output_type": "execute_result"
    },
    {
     "data": {
      "image/png": "[encoded data removed]",
      "text/plain": [
       "<Figure size 432x288 with 1 Axes>"
      ]
     },
     "metadata": {
      "needs_background": "light"
     },
     "output_type": "display_data"
    }
   ],
   "source": [
    "#  This returns the (first) Record corresponding to the \n",
    "#   Center Image in FITS for the given observation:\n",
    "r=linkwalker(results[9],0,keyword='Center',ctype='fits')\n",
    "hdu_list = fits.open(r.getdataurl())\n",
    "plt.imshow(hdu_list[0].data)"
   ]
  },
  {
   "cell_type": "code",
   "execution_count": 6,
   "id": "municipal-converter",
   "metadata": {},
   "outputs": [
    {
     "data": {
      "text/plain": [
       "(1025, 1024)"
      ]
     },
     "execution_count": 6,
     "metadata": {},
     "output_type": "execute_result"
    }
   ],
   "source": [
    "hdu_list[0].data.shape"
   ]
  },
  {
   "cell_type": "markdown",
   "id": "confidential-findings",
   "metadata": {},
   "source": [
    "Let's just cut out the central region:"
   ]
  },
  {
   "cell_type": "code",
   "execution_count": 7,
   "id": "measured-trunk",
   "metadata": {},
   "outputs": [
    {
     "name": "stderr",
     "output_type": "stream",
     "text": [
      "WARNING: FITSFixedWarning: 'datfix' made the change 'Set DATEREF to '1998-01-01' from MJDREF.\n",
      "Set MJD-END to 51581.474317 from DATE-END'. [astropy.wcs.wcs]\n"
     ]
    }
   ],
   "source": [
    "from astropy.nddata import Cutout2D\n",
    "from astropy.wcs import WCS\n",
    "from astropy import units as u\n",
    "w = WCS(hdu_list[0].header, hdu_list)\n",
    "cutout = Cutout2D(hdu_list[0].data, coords, (2*u.arcmin,2*u.arcmin), wcs=w)"
   ]
  },
  {
   "cell_type": "code",
   "execution_count": 8,
   "id": "virtual-hanging",
   "metadata": {},
   "outputs": [
    {
     "data": {
      "text/plain": [
       "<AxesSubplot:>"
      ]
     },
     "execution_count": 8,
     "metadata": {},
     "output_type": "execute_result"
    },
    {
     "data": {
      "image/png": "[encoded data removed]",
      "text/plain": [
       "<Figure size 432x288 with 1 Axes>"
      ]
     },
     "metadata": {
      "needs_background": "light"
     },
     "output_type": "display_data"
    }
   ],
   "source": [
    "plt.imshow(hdu_list[0].data,origin='lower')\n",
    "cutout.plot_on_original(color='white')"
   ]
  },
  {
   "cell_type": "markdown",
   "id": "north-refrigerator",
   "metadata": {},
   "source": [
    "So now let's add it to the viewing widget on top of the background Halpha emission:"
   ]
  },
  {
   "cell_type": "code",
   "execution_count": 9,
   "id": "shared-settle",
   "metadata": {},
   "outputs": [],
   "source": [
    "layer2= wwt.layers.add_image_layer(image=(cutout.data,cutout.wcs))\n",
    "layer2.opacity=0.5"
   ]
  }
 ],
 "metadata": {
  "kernelspec": {
   "display_name": "Python 3.8 (Heasarc)",
   "language": "python",
   "name": "python3.8"
  },
  "language_info": {
   "codemirror_mode": {
    "name": "ipython",
    "version": 3
   },
   "file_extension": ".py",
   "mimetype": "text/x-python",
   "name": "python",
   "nbconvert_exporter": "python",
   "pygments_lexer": "ipython3",
   "version": "3.8.5"
  }
 },
 "nbformat": 4,
 "nbformat_minor": 5
}
