{
 "cells": [
  {
   "cell_type": "markdown",
   "metadata": {},
   "source": [
    "# HEASARC data access on SciServer\n",
    "\n",
    "Here we show several methods for getting the lists of the files you're interested in.  "
   ]
  },
  {
   "cell_type": "code",
   "execution_count": 1,
   "metadata": {},
   "outputs": [],
   "source": [
    "import sys,os\n",
    "import pyvo as vo\n",
    "import astropy.coordinates as coord\n",
    "import requests\n",
    "import glob\n",
    "import numpy as np"
   ]
  },
  {
   "cell_type": "markdown",
   "metadata": {},
   "source": [
    "### Get the HEASARC TAP service\n",
    "\n",
    "We can use the Virtual Observatory interfaces to the HEASARC to find the data we're  interested in.  Specifically, we want to look at the observation tables.  So first we get a list of all the tables HEASARC serves and then look for the ones related to RXTE.\n",
    "\n",
    "We start with the Registry of all VO services.  The HEASARC table service is using the same backend as our [Xamin web interface](https://heasarc.gsfc.nasa.gov/xamin/), the same database that [Browse](https://heasarc.gsfc.nasa.gov/cgi-bin/W3Browse/w3browse.pl) also uses.  "
   ]
  },
  {
   "cell_type": "code",
   "execution_count": 2,
   "metadata": {},
   "outputs": [
    {
     "name": "stderr",
     "output_type": "stream",
     "text": [
      "WARNING: UnknownElementWarning: None:3:1106: UnknownElementWarning: Unknown element mirrorURL [pyvo.utils.xml.elements]\n",
      "WARNING: UnknownElementWarning: None:100:4268: UnknownElementWarning: Unknown element mirrorURL [pyvo.utils.xml.elements]\n",
      "WARNING: UnknownElementWarning: None:100:4585: UnknownElementWarning: Unknown element mirrorURL [pyvo.utils.xml.elements]\n",
      "WARNING: UnknownElementWarning: None:100:4897: UnknownElementWarning: Unknown element mirrorURL [pyvo.utils.xml.elements]\n",
      "WARNING: UnknownElementWarning: None:100:5197: UnknownElementWarning: Unknown element mirrorURL [pyvo.utils.xml.elements]\n"
     ]
    }
   ],
   "source": [
    "tap_services=vo.regsearch(servicetype='table',keywords=['heasarc'])"
   ]
  },
  {
   "cell_type": "markdown",
   "metadata": {},
   "source": [
    "We then ask the service for all of the tables that are available at the HEASARC:"
   ]
  },
  {
   "cell_type": "code",
   "execution_count": 3,
   "metadata": {},
   "outputs": [],
   "source": [
    "heasarc_tables=tap_services[0].service.tables"
   ]
  },
  {
   "cell_type": "markdown",
   "metadata": {},
   "source": [
    "And then we look for the ones related to XTE:"
   ]
  },
  {
   "cell_type": "code",
   "execution_count": 4,
   "metadata": {},
   "outputs": [
    {
     "name": "stdout",
     "output_type": "stream",
     "text": [
      " xteao                XTE Proposal Info & Abstracts\n",
      " xteasmlong           XTE All-Sky Monitor Long-Term Observed Sources\n",
      " xteassagn            XTE All-Sky Slew Survey AGN Catalog\n",
      " xteasscat            XTE All-Sky Slew Survey Catalog\n",
      " xteindex             XTE Target Index Catalog\n",
      " xtemaster            XTE Master Catalog\n",
      " xtemlcat             XTE Mission-Long Source Catalog\n",
      " xteslew              XTE Archived Public Slew Data\n"
     ]
    }
   ],
   "source": [
    "for tablename in heasarc_tables.keys():\n",
    "    if \"xte\" in tablename:  \n",
    "        print(\" {:20s} {}\".format(tablename,heasarc_tables[tablename].description))\n"
   ]
  },
  {
   "cell_type": "markdown",
   "metadata": {},
   "source": [
    "The \"xtemaster\" catalog is the one that we're interested in.  \n",
    "\n",
    "Let's see what this table has in it.  Alternatively, we can google it and find the same information here:\n",
    "\n",
    "https://heasarc.gsfc.nasa.gov/W3Browse/all/xtemaster.html\n"
   ]
  },
  {
   "cell_type": "code",
   "execution_count": 5,
   "metadata": {
    "scrolled": true
   },
   "outputs": [
    {
     "name": "stdout",
     "output_type": "stream",
     "text": [
      "subject_category     Subject Category of Proposal\n",
      "exposure             Total Good Time of the Observation (s)\n",
      "\"__x_ra_dec\"         System unit vector column\n",
      "lii                  Galactic Longitude\n",
      "scheduled_date       Scheduled Start Date of Observation\n",
      "hexte_modeb          HEXTE Mode B\n",
      "obsid                Observation ID of Scheduled Observation\n",
      "pi_lname             Principal Investigator Last Name\n",
      "hexte_angleb         HEXTE Angle B\n",
      "dec                  Declination\n",
      "processed_date       Date Observation Data Was Processed\n",
      "\"__z_ra_dec\"         System unit vector column\n",
      "priority             Target Priority\n",
      "hexte_energyb        HEXTE Energy B\n",
      "prnb                 Proposal Number\n",
      "time_awarded         Total Observation Time (s)\n",
      "pca_config5          PCA Configuration 5\n",
      "pca_config2          PCA Configuration 2\n",
      "hexte_dwellb         HEXTE Dwell B\n",
      "pi_no                Principal Investigator Unique Number\n",
      "observed_date        Start Date of Observation\n",
      "hexte_energya        HEXTE Energy A\n",
      "pi_fname             Principal Investigator First Name\n",
      "archived_date        Date Observation Data Was Archived\n",
      "cycle                Proposal Cycle Number\n",
      "pca_config1          PCA Configuration 1\n",
      "ra                   Right Ascension\n",
      "bii                  Galactic Latitude\n",
      "\"__row\"              System index column\n",
      "tar_no               Target Number\n",
      "status               Status: accepted, sched (long), sched (short), observed, processed, or archived\n",
      "\"time\"               Start Date of Observation\n",
      "hexte_anglea         HEXTE Angle A\n",
      "duration             Duration of the Observation (s)\n",
      "hexte_dwella         HEXTE Dwell A\n",
      "target_name          Target Name\n",
      "hexte_modea          HEXTE Mode A\n",
      "pca_config6          PCA Configuration 6\n",
      "pca_config4          PCA Configuration 4\n",
      "\"__y_ra_dec\"         System unit vector column\n",
      "pca_config3          PCA Configuration 3\n"
     ]
    }
   ],
   "source": [
    "for c in heasarc_tables['xtemaster'].columns:\n",
    "    print(\"{:20s} {}\".format(c.name,c.description))"
   ]
  },
  {
   "cell_type": "markdown",
   "metadata": {},
   "source": [
    "We're interested in Eta Carinae, and we want to get the RXTE cycle, proposal, and observation ID etc. for every observation it took of this source based on its position.  (Just in case the name has been entered differently, which can happen.)  This constructs a query in the ADQL language to select the columns (target_name, cycle, prnb, obsid, time, exposure, ra, dec) where the point defined by the observation's RA and DEC lies inside a circle defined by our chosen source position.  The results will be sorted by time.  See the [NAVO website](https://heasarc.gsfc.nasa.gov/vo/summary/python.html) for more information on how to use these services with python and how to construct ADQL queries for catalog searches."
   ]
  },
  {
   "cell_type": "code",
   "execution_count": 6,
   "metadata": {},
   "outputs": [],
   "source": [
    "# Get the coordinate for Eta Car\n",
    "pos=coord.SkyCoord.from_name(\"eta car\")\n",
    "query=\"\"\"SELECT target_name, cycle, prnb, obsid, time, exposure, ra, dec \n",
    "    FROM public.xtemaster as cat \n",
    "    where \n",
    "    contains(point('ICRS',cat.ra,cat.dec),circle('ICRS',{},{},0.1))=1 \n",
    "    and \n",
    "    cat.exposure > 0 order by cat.time\n",
    "    \"\"\".format(pos.ra.deg, pos.dec.deg)"
   ]
  },
  {
   "cell_type": "code",
   "execution_count": 7,
   "metadata": {
    "scrolled": true
   },
   "outputs": [
    {
     "data": {
      "text/html": [
       "<i>Table length=1368</i>\n",
       "<table id=\"table140297323214640\" class=\"table-striped table-bordered table-condensed\">\n",
       "<thead><tr><th>target_name</th><th>cycle</th><th>prnb</th><th>obsid</th><th>time</th><th>exposure</th><th>ra</th><th>dec</th></tr></thead>\n",
       "<thead><tr><th></th><th></th><th></th><th></th><th>mjd</th><th>s</th><th>deg</th><th>deg</th></tr></thead>\n",
       "<thead><tr><th>object</th><th>int16</th><th>int32</th><th>object</th><th>float64</th><th>float64</th><th>float64</th><th>float64</th></tr></thead>\n",
       "<tr><td>ETA_CAR</td><td>1</td><td>10004</td><td>10004-01-40-00</td><td>50122.64263</td><td>1091</td><td>161.2583</td><td>-59.6800</td></tr>\n",
       "<tr><td>ETA_CAR</td><td>1</td><td>10004</td><td>10004-01-39-00</td><td>50129.42992</td><td>945</td><td>161.2583</td><td>-59.6800</td></tr>\n",
       "<tr><td>ETA_CAR</td><td>1</td><td>10004</td><td>10004-01-38-00</td><td>50134.57053</td><td>1018</td><td>161.2583</td><td>-59.6800</td></tr>\n",
       "<tr><td>ETA_CAR</td><td>1</td><td>10004</td><td>10004-01-41-00</td><td>50142.85058</td><td>958</td><td>161.2583</td><td>-59.6800</td></tr>\n",
       "<tr><td>ETA_CAR</td><td>1</td><td>10004</td><td>10004-01-37-00</td><td>50147.83134</td><td>1778</td><td>161.2583</td><td>-59.6800</td></tr>\n",
       "<tr><td>ETA_CAR</td><td>1</td><td>10004</td><td>10004-01-36-00</td><td>50150.58692</td><td>696</td><td>161.2583</td><td>-59.6800</td></tr>\n",
       "<tr><td>ETA_CAR</td><td>1</td><td>10004</td><td>10004-01-36-01</td><td>50154.99084</td><td>1098</td><td>161.2583</td><td>-59.6800</td></tr>\n",
       "<tr><td>ETA_CAR</td><td>1</td><td>10004</td><td>10004-01-35-00</td><td>50162.75743</td><td>1109</td><td>161.2583</td><td>-59.6800</td></tr>\n",
       "<tr><td>ETA_CAR</td><td>1</td><td>10004</td><td>10004-01-32-00</td><td>50180.19184</td><td>921</td><td>161.2583</td><td>-59.6800</td></tr>\n",
       "<tr><td>ETA_CAR</td><td>1</td><td>10004</td><td>10004-01-31-00</td><td>50185.68444</td><td>1003</td><td>161.2583</td><td>-59.6800</td></tr>\n",
       "<tr><td>ETA_CAR</td><td>1</td><td>10004</td><td>10004-01-30-00</td><td>50195.72225</td><td>1133</td><td>161.2583</td><td>-59.6800</td></tr>\n",
       "<tr><td>ETA_CAR</td><td>1</td><td>10004</td><td>10004-01-29-00</td><td>50199.65633</td><td>1003</td><td>161.2583</td><td>-59.6800</td></tr>\n",
       "<tr><td>ETA_CAR</td><td>1</td><td>10004</td><td>10004-01-28-00</td><td>50206.38421</td><td>864</td><td>161.2583</td><td>-59.6800</td></tr>\n",
       "<tr><td>ETA_CAR</td><td>1</td><td>10004</td><td>10004-01-27-00</td><td>50215.09494</td><td>1771</td><td>161.2583</td><td>-59.6800</td></tr>\n",
       "<tr><td>ETA_CAR</td><td>1</td><td>10004</td><td>10004-01-26-00</td><td>50220.95895</td><td>1272</td><td>161.2583</td><td>-59.6800</td></tr>\n",
       "<tr><td>ETA_CAR</td><td>1</td><td>10004</td><td>10004-01-25-00</td><td>50232.85722</td><td>897</td><td>161.2583</td><td>-59.6800</td></tr>\n",
       "<tr><td>ETA_CAR</td><td>1</td><td>10004</td><td>10004-01-24-00</td><td>50239.30212</td><td>1190</td><td>161.2583</td><td>-59.6800</td></tr>\n",
       "<tr><td>ETA_CAR</td><td>1</td><td>10004</td><td>10004-01-23-00</td><td>50243.40414</td><td>1261</td><td>161.2583</td><td>-59.6800</td></tr>\n",
       "<tr><td>ETA_CAR</td><td>1</td><td>10004</td><td>10004-01-22-00</td><td>50253.06084</td><td>822</td><td>161.2583</td><td>-59.6800</td></tr>\n",
       "<tr><td>ETA_CAR</td><td>1</td><td>10004</td><td>10004-01-21-00</td><td>50260.58994</td><td>1195</td><td>161.2583</td><td>-59.6800</td></tr>\n",
       "<tr><td>ETA_CAR</td><td>1</td><td>10004</td><td>10004-01-20-00</td><td>50265.53112</td><td>917</td><td>161.2583</td><td>-59.6800</td></tr>\n",
       "<tr><td>ETA_CAR</td><td>1</td><td>10004</td><td>10004-01-19-00</td><td>50274.7927</td><td>1141</td><td>161.2583</td><td>-59.6800</td></tr>\n",
       "<tr><td>ETA_CAR</td><td>1</td><td>10004</td><td>10004-01-18-00</td><td>50279.72603</td><td>1081</td><td>161.2583</td><td>-59.6800</td></tr>\n",
       "<tr><td>ETA_CAR</td><td>1</td><td>10004</td><td>10004-01-17-00</td><td>50286.59273</td><td>1013</td><td>161.2583</td><td>-59.6800</td></tr>\n",
       "<tr><td>ETA_CAR</td><td>1</td><td>10004</td><td>10004-01-16-00</td><td>50295.92115</td><td>962</td><td>161.2583</td><td>-59.6800</td></tr>\n",
       "<tr><td>ETA_CAR</td><td>1</td><td>10004</td><td>10004-01-15-00</td><td>50300.8525</td><td>883</td><td>161.2583</td><td>-59.6800</td></tr>\n",
       "<tr><td>ETA_CAR</td><td>1</td><td>10004</td><td>10004-01-14-00</td><td>50308.44916</td><td>1103</td><td>161.2583</td><td>-59.6800</td></tr>\n",
       "<tr><td>ETA_CAR</td><td>1</td><td>10004</td><td>10004-01-13-00</td><td>50316.23012</td><td>910</td><td>161.2583</td><td>-59.6800</td></tr>\n",
       "<tr><td>ETA_CAR</td><td>1</td><td>10004</td><td>10004-01-12-00</td><td>50322.83427</td><td>1273</td><td>161.2583</td><td>-59.6800</td></tr>\n",
       "<tr><td>...</td><td>...</td><td>...</td><td>...</td><td>...</td><td>...</td><td>...</td><td>...</td></tr>\n",
       "<tr><td>ETA_CAR</td><td>15</td><td>96002</td><td>96002-01-23-00</td><td>55721.19223</td><td>917</td><td>161.2650</td><td>-59.6845</td></tr>\n",
       "<tr><td>ETA_CAR</td><td>15</td><td>96002</td><td>96002-01-24-00</td><td>55728.30841</td><td>1001</td><td>161.2650</td><td>-59.6845</td></tr>\n",
       "<tr><td>ETA_CAR</td><td>15</td><td>96002</td><td>96002-01-25-00</td><td>55735.30683</td><td>1036</td><td>161.2650</td><td>-59.6845</td></tr>\n",
       "<tr><td>ETA_CAR</td><td>15</td><td>96002</td><td>96002-01-26-00</td><td>55741.83341</td><td>955</td><td>161.2650</td><td>-59.6845</td></tr>\n",
       "<tr><td>ETA_CAR</td><td>15</td><td>96002</td><td>96002-01-27-00</td><td>55748.02505</td><td>645</td><td>161.2650</td><td>-59.6845</td></tr>\n",
       "<tr><td>ETA_CAR</td><td>15</td><td>96002</td><td>96002-01-28-00</td><td>55756.24448</td><td>1129</td><td>161.2650</td><td>-59.6845</td></tr>\n",
       "<tr><td>ETA_CAR</td><td>15</td><td>96002</td><td>96002-01-29-00</td><td>55762.19411</td><td>834</td><td>161.2650</td><td>-59.6845</td></tr>\n",
       "<tr><td>ETA_CAR</td><td>15</td><td>96002</td><td>96002-01-30-00</td><td>55770.09299</td><td>905</td><td>161.2650</td><td>-59.6845</td></tr>\n",
       "<tr><td>ETA_CAR</td><td>15</td><td>96002</td><td>96002-01-31-00</td><td>55777.23689</td><td>958</td><td>161.2650</td><td>-59.6845</td></tr>\n",
       "<tr><td>ETA_CAR</td><td>15</td><td>96002</td><td>96002-01-32-00</td><td>55783.88406</td><td>890</td><td>161.2650</td><td>-59.6845</td></tr>\n",
       "<tr><td>ETA_CAR</td><td>15</td><td>96002</td><td>96002-01-33-00</td><td>55791.91605</td><td>1014</td><td>161.2650</td><td>-59.6845</td></tr>\n",
       "<tr><td>ETA_CAR</td><td>15</td><td>96002</td><td>96002-01-34-00</td><td>55798.16619</td><td>918</td><td>161.2650</td><td>-59.6845</td></tr>\n",
       "<tr><td>ETA_CAR</td><td>15</td><td>96002</td><td>96002-01-35-00</td><td>55805.34476</td><td>901</td><td>161.2650</td><td>-59.6845</td></tr>\n",
       "<tr><td>ETA_CAR</td><td>15</td><td>96002</td><td>96002-01-36-00</td><td>55811.61444</td><td>1224</td><td>161.2650</td><td>-59.6845</td></tr>\n",
       "<tr><td>ETA_CAR</td><td>15</td><td>96002</td><td>96002-01-37-00</td><td>55819.97352</td><td>850</td><td>161.2650</td><td>-59.6845</td></tr>\n",
       "<tr><td>ETA_CAR</td><td>15</td><td>96002</td><td>96002-01-38-00</td><td>55826.76519</td><td>973</td><td>161.2650</td><td>-59.6845</td></tr>\n",
       "<tr><td>ETA_CAR</td><td>15</td><td>96002</td><td>96002-01-39-00</td><td>55833.86752</td><td>988</td><td>161.2650</td><td>-59.6845</td></tr>\n",
       "<tr><td>ETA_CAR</td><td>15</td><td>96002</td><td>96002-01-40-00</td><td>55840.00278</td><td>893</td><td>161.2650</td><td>-59.6845</td></tr>\n",
       "<tr><td>ETA_CAR</td><td>15</td><td>96002</td><td>96002-01-41-00</td><td>55847.72977</td><td>1032</td><td>161.2650</td><td>-59.6845</td></tr>\n",
       "<tr><td>ETA_CAR</td><td>15</td><td>96002</td><td>96002-01-42-00</td><td>55852.77753</td><td>1057</td><td>161.2650</td><td>-59.6845</td></tr>\n",
       "<tr><td>ETA_CAR</td><td>15</td><td>96002</td><td>96002-01-43-00</td><td>55859.4621</td><td>1147</td><td>161.2650</td><td>-59.6845</td></tr>\n",
       "<tr><td>ETA_CAR</td><td>15</td><td>96002</td><td>96002-01-44-00</td><td>55868.91589</td><td>1029</td><td>161.2650</td><td>-59.6845</td></tr>\n",
       "<tr><td>ETA_CAR</td><td>15</td><td>96002</td><td>96002-01-45-00</td><td>55874.66102</td><td>973</td><td>161.2650</td><td>-59.6845</td></tr>\n",
       "<tr><td>ETA_CAR</td><td>15</td><td>96002</td><td>96002-01-46-00</td><td>55882.9605</td><td>894</td><td>161.2650</td><td>-59.6845</td></tr>\n",
       "<tr><td>ETA_CAR</td><td>15</td><td>96002</td><td>96002-01-47-00</td><td>55889.73619</td><td>1135</td><td>161.2650</td><td>-59.6845</td></tr>\n",
       "<tr><td>ETA_CAR</td><td>15</td><td>96002</td><td>96002-01-48-00</td><td>55895.6681</td><td>1550</td><td>161.2650</td><td>-59.6845</td></tr>\n",
       "<tr><td>ETA_CAR</td><td>15</td><td>96002</td><td>96002-01-49-00</td><td>55902.51077</td><td>1137</td><td>161.2650</td><td>-59.6845</td></tr>\n",
       "<tr><td>ETA_CAR</td><td>15</td><td>96002</td><td>96002-01-50-00</td><td>55909.92591</td><td>1339</td><td>161.2650</td><td>-59.6845</td></tr>\n",
       "<tr><td>ETA_CAR</td><td>15</td><td>96002</td><td>96002-01-51-00</td><td>55916.80008</td><td>954</td><td>161.2650</td><td>-59.6845</td></tr>\n",
       "<tr><td>ETA_CAR</td><td>15</td><td>96002</td><td>96002-01-52-00</td><td>55923.7098</td><td>1075</td><td>161.2650</td><td>-59.6845</td></tr>\n",
       "</table>"
      ],
      "text/plain": [
       "<Table length=1368>\n",
       "target_name cycle  prnb     obsid          time    exposure    ra      dec   \n",
       "                                           mjd        s       deg      deg   \n",
       "   object   int16 int32     object       float64   float64  float64  float64 \n",
       "----------- ----- ----- -------------- ----------- -------- -------- --------\n",
       "    ETA_CAR     1 10004 10004-01-40-00 50122.64263     1091 161.2583 -59.6800\n",
       "    ETA_CAR     1 10004 10004-01-39-00 50129.42992      945 161.2583 -59.6800\n",
       "    ETA_CAR     1 10004 10004-01-38-00 50134.57053     1018 161.2583 -59.6800\n",
       "    ETA_CAR     1 10004 10004-01-41-00 50142.85058      958 161.2583 -59.6800\n",
       "    ETA_CAR     1 10004 10004-01-37-00 50147.83134     1778 161.2583 -59.6800\n",
       "    ETA_CAR     1 10004 10004-01-36-00 50150.58692      696 161.2583 -59.6800\n",
       "    ETA_CAR     1 10004 10004-01-36-01 50154.99084     1098 161.2583 -59.6800\n",
       "    ETA_CAR     1 10004 10004-01-35-00 50162.75743     1109 161.2583 -59.6800\n",
       "    ETA_CAR     1 10004 10004-01-32-00 50180.19184      921 161.2583 -59.6800\n",
       "    ETA_CAR     1 10004 10004-01-31-00 50185.68444     1003 161.2583 -59.6800\n",
       "    ETA_CAR     1 10004 10004-01-30-00 50195.72225     1133 161.2583 -59.6800\n",
       "    ETA_CAR     1 10004 10004-01-29-00 50199.65633     1003 161.2583 -59.6800\n",
       "    ETA_CAR     1 10004 10004-01-28-00 50206.38421      864 161.2583 -59.6800\n",
       "    ETA_CAR     1 10004 10004-01-27-00 50215.09494     1771 161.2583 -59.6800\n",
       "    ETA_CAR     1 10004 10004-01-26-00 50220.95895     1272 161.2583 -59.6800\n",
       "    ETA_CAR     1 10004 10004-01-25-00 50232.85722      897 161.2583 -59.6800\n",
       "    ETA_CAR     1 10004 10004-01-24-00 50239.30212     1190 161.2583 -59.6800\n",
       "    ETA_CAR     1 10004 10004-01-23-00 50243.40414     1261 161.2583 -59.6800\n",
       "    ETA_CAR     1 10004 10004-01-22-00 50253.06084      822 161.2583 -59.6800\n",
       "    ETA_CAR     1 10004 10004-01-21-00 50260.58994     1195 161.2583 -59.6800\n",
       "    ETA_CAR     1 10004 10004-01-20-00 50265.53112      917 161.2583 -59.6800\n",
       "    ETA_CAR     1 10004 10004-01-19-00  50274.7927     1141 161.2583 -59.6800\n",
       "    ETA_CAR     1 10004 10004-01-18-00 50279.72603     1081 161.2583 -59.6800\n",
       "    ETA_CAR     1 10004 10004-01-17-00 50286.59273     1013 161.2583 -59.6800\n",
       "    ETA_CAR     1 10004 10004-01-16-00 50295.92115      962 161.2583 -59.6800\n",
       "    ETA_CAR     1 10004 10004-01-15-00  50300.8525      883 161.2583 -59.6800\n",
       "    ETA_CAR     1 10004 10004-01-14-00 50308.44916     1103 161.2583 -59.6800\n",
       "    ETA_CAR     1 10004 10004-01-13-00 50316.23012      910 161.2583 -59.6800\n",
       "    ETA_CAR     1 10004 10004-01-12-00 50322.83427     1273 161.2583 -59.6800\n",
       "        ...   ...   ...            ...         ...      ...      ...      ...\n",
       "    ETA_CAR    15 96002 96002-01-23-00 55721.19223      917 161.2650 -59.6845\n",
       "    ETA_CAR    15 96002 96002-01-24-00 55728.30841     1001 161.2650 -59.6845\n",
       "    ETA_CAR    15 96002 96002-01-25-00 55735.30683     1036 161.2650 -59.6845\n",
       "    ETA_CAR    15 96002 96002-01-26-00 55741.83341      955 161.2650 -59.6845\n",
       "    ETA_CAR    15 96002 96002-01-27-00 55748.02505      645 161.2650 -59.6845\n",
       "    ETA_CAR    15 96002 96002-01-28-00 55756.24448     1129 161.2650 -59.6845\n",
       "    ETA_CAR    15 96002 96002-01-29-00 55762.19411      834 161.2650 -59.6845\n",
       "    ETA_CAR    15 96002 96002-01-30-00 55770.09299      905 161.2650 -59.6845\n",
       "    ETA_CAR    15 96002 96002-01-31-00 55777.23689      958 161.2650 -59.6845\n",
       "    ETA_CAR    15 96002 96002-01-32-00 55783.88406      890 161.2650 -59.6845\n",
       "    ETA_CAR    15 96002 96002-01-33-00 55791.91605     1014 161.2650 -59.6845\n",
       "    ETA_CAR    15 96002 96002-01-34-00 55798.16619      918 161.2650 -59.6845\n",
       "    ETA_CAR    15 96002 96002-01-35-00 55805.34476      901 161.2650 -59.6845\n",
       "    ETA_CAR    15 96002 96002-01-36-00 55811.61444     1224 161.2650 -59.6845\n",
       "    ETA_CAR    15 96002 96002-01-37-00 55819.97352      850 161.2650 -59.6845\n",
       "    ETA_CAR    15 96002 96002-01-38-00 55826.76519      973 161.2650 -59.6845\n",
       "    ETA_CAR    15 96002 96002-01-39-00 55833.86752      988 161.2650 -59.6845\n",
       "    ETA_CAR    15 96002 96002-01-40-00 55840.00278      893 161.2650 -59.6845\n",
       "    ETA_CAR    15 96002 96002-01-41-00 55847.72977     1032 161.2650 -59.6845\n",
       "    ETA_CAR    15 96002 96002-01-42-00 55852.77753     1057 161.2650 -59.6845\n",
       "    ETA_CAR    15 96002 96002-01-43-00  55859.4621     1147 161.2650 -59.6845\n",
       "    ETA_CAR    15 96002 96002-01-44-00 55868.91589     1029 161.2650 -59.6845\n",
       "    ETA_CAR    15 96002 96002-01-45-00 55874.66102      973 161.2650 -59.6845\n",
       "    ETA_CAR    15 96002 96002-01-46-00  55882.9605      894 161.2650 -59.6845\n",
       "    ETA_CAR    15 96002 96002-01-47-00 55889.73619     1135 161.2650 -59.6845\n",
       "    ETA_CAR    15 96002 96002-01-48-00  55895.6681     1550 161.2650 -59.6845\n",
       "    ETA_CAR    15 96002 96002-01-49-00 55902.51077     1137 161.2650 -59.6845\n",
       "    ETA_CAR    15 96002 96002-01-50-00 55909.92591     1339 161.2650 -59.6845\n",
       "    ETA_CAR    15 96002 96002-01-51-00 55916.80008      954 161.2650 -59.6845\n",
       "    ETA_CAR    15 96002 96002-01-52-00  55923.7098     1075 161.2650 -59.6845"
      ]
     },
     "execution_count": 7,
     "metadata": {},
     "output_type": "execute_result"
    }
   ],
   "source": [
    "results=tap_services[0].search(query).to_table()\n",
    "results"
   ]
  },
  {
   "cell_type": "markdown",
   "metadata": {},
   "source": [
    "###  Xamin's servlet API "
   ]
  },
  {
   "cell_type": "markdown",
   "metadata": {},
   "source": [
    "An alternative, if for some reason you don't want to use PyVO, is to use the Xamin API specifically:\n",
    "\n",
    "The base URL for the Xamin query servelet is \n",
    "\n",
    " https://heasarc.gsfc.nasa.gov/xamin/QueryServlet?\n",
    " \n",
    " And it then takes options\n",
    " * table:  e.g., \"table=xtemaster\"\n",
    " * constraint:   eg., \"obsid=10004-01-40-00\"\n",
    " * object:  \"object=andromeda\" or \"object=10.68,41.27\"\n",
    "  \n",
    " So we can do:"
   ]
  },
  {
   "cell_type": "code",
   "execution_count": 8,
   "metadata": {},
   "outputs": [
    {
     "data": {
      "text/plain": [
       "['obsid         |prnb |status  |pi_lname |pi_fname|target_name |ra        |dec      |time               |duration|exposure|__dp|__p_xtemaster_xte_tar_tar_no|__p_xtemaster_xte_tar_root                               |__p_xtemaster_xte_tar_obsid|__p_xtemaster_xte_tar_prnb|__p_xtemaster_point_bib_id|__p_xtemaster_point_bib_table|__w_xtemaster_point_bib|__p_xtemaster_xte_target_merged_root       |__p_xtemaster_xte_abstract_root|__p_xtemaster_xte_abstract_propno|__p_xtemaster_xte_obs_root                        |__p_xtemaster_xte_obs_obsid',\n",
       " '30138-01-01-22|30138|archived|MCCONNELL|MARK    |GRO_J0332-87|08 44 14.2|-87 26 49|1998-02-04T15:06:29|    997.|    null|   1|                           1|https://heasarc.gsfc.nasa.gov/cgi-bin/W3Browse/xteTar.pl?|30138-01-01-22             |                     30138|30138-01-01-22            |xtemaster                    |false                  |/FTP/xte/data/archive/AO3//P30138/30138-01/|/FTP/xte/abstracts/abstracts/  |                            30138|/FTP/xte/data/archive/AO3//P30138/30138-01-01-22*/|30138-01-01-22             ']"
      ]
     },
     "execution_count": 8,
     "metadata": {},
     "output_type": "execute_result"
    }
   ],
   "source": [
    "url=\"https://heasarc.gsfc.nasa.gov/xamin/QueryServlet?products&\"\n",
    "result=requests.get(url,params={\"table\":\"xtemaster\",\n",
    "                                \"object\":\"eta car\",\n",
    "                                \"resultmax\":\"10\"\n",
    "                               })\n",
    "result.text.split('\\n')[0:2]"
   ]
  },
  {
   "cell_type": "code",
   "execution_count": null,
   "metadata": {},
   "outputs": [],
   "source": []
  },
  {
   "cell_type": "markdown",
   "metadata": {},
   "source": [
    "And then you can construct a file list from the second to last field in each row, the *obs_root.  "
   ]
  },
  {
   "cell_type": "markdown",
   "metadata": {},
   "source": [
    "###  Know the archive structure\n",
    "\n",
    "You're still going to have to know how to find the files you're interested in for the given mission.  Then you can take the list of observations from XTE above and find the specific files of the type you want for each of those observations.  \n",
    "\n",
    "Let's collect all the standard product light curves for RXTE.  (These are described on the [RXTE analysis pages](https://heasarc.gsfc.nasa.gov/docs/xte/recipes/cook_book.html).)"
   ]
  },
  {
   "cell_type": "code",
   "execution_count": 9,
   "metadata": {},
   "outputs": [
    {
     "data": {
      "text/plain": [
       "array([( 1, 10004, '10004-01-40-00', 50122.64263),\n",
       "       ( 1, 10004, '10004-01-39-00', 50129.42992),\n",
       "       ( 1, 10004, '10004-01-38-00', 50134.57053), ...,\n",
       "       (15, 96002, '96002-01-50-00', 55909.92591),\n",
       "       (15, 96002, '96002-01-51-00', 55916.80008),\n",
       "       (15, 96002, '96002-01-52-00', 55923.7098 )],\n",
       "      dtype=[('cycle', '<i2'), ('prnb', '<i4'), ('obsid', 'O'), ('time', '<f8')])"
      ]
     },
     "execution_count": 9,
     "metadata": {},
     "output_type": "execute_result"
    }
   ],
   "source": [
    "## Need cycle number as well, since after AO9, \n",
    "##  no longer 1st digit of proposal number\n",
    "ids=np.unique( results['cycle','prnb','obsid','time'])\n",
    "ids.sort(order='time')\n",
    "ids"
   ]
  },
  {
   "cell_type": "code",
   "execution_count": 10,
   "metadata": {},
   "outputs": [
    {
     "name": "stdout",
     "output_type": "stream",
     "text": [
      "Found 1364 out of 1368 files\n"
     ]
    }
   ],
   "source": [
    "## Construct a file list.\n",
    "## Though Jupyter Lab container, either works:\n",
    "#rootdir=\"/home/idies/workspace/headata/FTP\"\n",
    "## This one is a link\n",
    "rootdir=\"/FTP\"\n",
    "rxtedata=\"rxte/data/archive\"\n",
    "filenames=[]\n",
    "for (k,val) in enumerate(ids['obsid']):\n",
    "    fname=\"{}/{}/AO{}/P{}/{}/stdprod/xp{}_n2a.lc.gz\".format(\n",
    "        rootdir,\n",
    "        rxtedata,\n",
    "        ids['cycle'][k],\n",
    "        ids['prnb'][k],\n",
    "        ids['obsid'][k],\n",
    "        ids['obsid'][k].replace('-',''))\n",
    "    #print(fname)\n",
    "    f=glob.glob(fname)\n",
    "    if (len(f) > 0):\n",
    "        filenames.append(f[0])\n",
    "print(\"Found {} out of {} files\".format(len(filenames),len(ids)))"
   ]
  },
  {
   "cell_type": "code",
   "execution_count": null,
   "metadata": {},
   "outputs": [],
   "source": []
  }
 ],
 "metadata": {
  "kernelspec": {
   "display_name": "Python 3.8 (Heasarc)",
   "language": "python",
   "name": "python3.8"
  },
  "language_info": {
   "codemirror_mode": {
    "name": "ipython",
    "version": 3
   },
   "file_extension": ".py",
   "mimetype": "text/x-python",
   "name": "python",
   "nbconvert_exporter": "python",
   "pygments_lexer": "ipython3",
   "version": "3.8.5"
  }
 },
 "nbformat": 4,
 "nbformat_minor": 4
}
