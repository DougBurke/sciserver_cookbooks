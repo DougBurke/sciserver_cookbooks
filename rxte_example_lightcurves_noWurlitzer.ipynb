{
 "cells": [
  {
   "cell_type": "markdown",
   "metadata": {},
   "source": [
    "# RXTE example\n",
    "\n",
    "This notebook demonstrates an analysis of 16 years of RXTE data, which would be difficult outside of SciServer.  We extract all of the standard product lightcurves, but then we decide that we need different channel boundaries.  So we re-exctract light curves following the RXTE documentation and using the heasoftpy wrappers.  "
   ]
  },
  {
   "cell_type": "code",
   "execution_count": 1,
   "metadata": {},
   "outputs": [],
   "source": [
    "import sys,os, shutil\n",
    "import pyvo as vo\n",
    "import numpy as np\n",
    "from astropy.io import fits\n",
    "import matplotlib.pyplot as plt\n",
    "%matplotlib inline  \n",
    "#from wurlitzer import sys_pipes, pipes\n",
    "import astropy.io.fits as pyfits\n",
    "import datetime\n",
    "#from tqdm import tqdm"
   ]
  },
  {
   "cell_type": "code",
   "execution_count": 2,
   "metadata": {},
   "outputs": [],
   "source": [
    "## Until integrated with heasoft\n",
    "sys.path.insert(0,'/home/idies/workspace/heasoft/heasoft')\n",
    "os.environ[\"HEADASNOQUERY\"]=\"True\"\n",
    "\n",
    "import heasoftpy as hsp"
   ]
  },
  {
   "cell_type": "markdown",
   "metadata": {},
   "source": [
    "### Step 1:  find the data\n",
    "\n",
    "We can use the Virtual Observatory interfaces to the HEASARC to find the data we're  interested in.  Specifically, we want to look at the observation tables.  So first we get a list of all the tables HEASARC serves and then look for the ones related to RXTE:"
   ]
  },
  {
   "cell_type": "code",
   "execution_count": 3,
   "metadata": {},
   "outputs": [
    {
     "name": "stderr",
     "output_type": "stream",
     "text": [
      "WARNING: UnknownElementWarning: None:3:1106: UnknownElementWarning: Unknown element mirrorURL [pyvo.utils.xml.elements]\n",
      "WARNING: UnknownElementWarning: None:100:4097: UnknownElementWarning: Unknown element mirrorURL [pyvo.utils.xml.elements]\n",
      "WARNING: UnknownElementWarning: None:100:4414: UnknownElementWarning: Unknown element mirrorURL [pyvo.utils.xml.elements]\n",
      "WARNING: UnknownElementWarning: None:100:4726: UnknownElementWarning: Unknown element mirrorURL [pyvo.utils.xml.elements]\n",
      "WARNING: UnknownElementWarning: None:100:5026: UnknownElementWarning: Unknown element mirrorURL [pyvo.utils.xml.elements]\n"
     ]
    }
   ],
   "source": [
    "tap_services=vo.regsearch(servicetype='table',keywords=['heasarc'])\n",
    "heasarc_tables=tap_services[0].service.tables"
   ]
  },
  {
   "cell_type": "code",
   "execution_count": 4,
   "metadata": {},
   "outputs": [
    {
     "name": "stdout",
     "output_type": "stream",
     "text": [
      " xteao                XTE Proposal Info & Abstracts\n",
      " xteasmlong           XTE All-Sky Monitor Long-Term Observed Sources\n",
      " xteassagn            XTE All-Sky Slew Survey AGN Catalog\n",
      " xteasscat            XTE All-Sky Slew Survey Catalog\n",
      " xteindex             XTE Target Index Catalog\n",
      " xtemaster            XTE Master Catalog\n",
      " xtemlcat             XTE Mission-Long Source Catalog\n",
      " xteslew              XTE Archived Public Slew Data\n"
     ]
    }
   ],
   "source": [
    "for tablename in heasarc_tables.keys():\n",
    "    if \"xte\" in tablename:  \n",
    "        print(\" {:20s} {}\".format(tablename,heasarc_tables[tablename].description))\n"
   ]
  },
  {
   "cell_type": "markdown",
   "metadata": {},
   "source": [
    "The \"xtemaster\" catalog is the one that we're interested in.  \n",
    "\n",
    "Let's see what this table has in it.  Alternatively, we can google it and find the same information here:\n",
    "\n",
    "https://heasarc.gsfc.nasa.gov/W3Browse/all/xtemaster.html\n"
   ]
  },
  {
   "cell_type": "code",
   "execution_count": 5,
   "metadata": {
    "scrolled": true
   },
   "outputs": [
    {
     "name": "stdout",
     "output_type": "stream",
     "text": [
      "dec                  Declination\n",
      "archived_date        Date Observation Data Was Archived\n",
      "pca_config5          PCA Configuration 5\n",
      "hexte_energya        HEXTE Energy A\n",
      "pi_fname             Principal Investigator First Name\n",
      "pca_config6          PCA Configuration 6\n",
      "priority             Target Priority\n",
      "observed_date        Start Date of Observation\n",
      "cycle                Proposal Cycle Number\n",
      "subject_category     Subject Category of Proposal\n",
      "obsid                Observation ID of Scheduled Observation\n",
      "\"__y_ra_dec\"         System unit vector column\n",
      "lii                  Galactic Longitude\n",
      "pi_lname             Principal Investigator Last Name\n",
      "hexte_modeb          HEXTE Mode B\n",
      "\"__x_ra_dec\"         System unit vector column\n",
      "prnb                 Proposal Number\n",
      "exposure             Total Good Time of the Observation (s)\n",
      "target_name          Target Name\n",
      "tar_no               Target Number\n",
      "status               Status: accepted, sched (long), sched (short), observed, processed, or archived\n",
      "\"__row\"              System index column\n",
      "time_awarded         Total Observation Time (s)\n",
      "pca_config1          PCA Configuration 1\n",
      "hexte_anglea         HEXTE Angle A\n",
      "hexte_modea          HEXTE Mode A\n",
      "hexte_angleb         HEXTE Angle B\n",
      "\"__z_ra_dec\"         System unit vector column\n",
      "pi_no                Principal Investigator Unique Number\n",
      "bii                  Galactic Latitude\n",
      "pca_config4          PCA Configuration 4\n",
      "pca_config3          PCA Configuration 3\n",
      "scheduled_date       Scheduled Start Date of Observation\n",
      "\"time\"               Start Date of Observation\n",
      "pca_config2          PCA Configuration 2\n",
      "ra                   Right Ascension\n",
      "hexte_dwellb         HEXTE Dwell B\n",
      "duration             Duration of the Observation (s)\n",
      "hexte_dwella         HEXTE Dwell A\n",
      "processed_date       Date Observation Data Was Processed\n",
      "hexte_energyb        HEXTE Energy B\n"
     ]
    }
   ],
   "source": [
    "for c in heasarc_tables['xtemaster'].columns:\n",
    "    print(\"{:20s} {}\".format(c.name,c.description))"
   ]
  },
  {
   "cell_type": "markdown",
   "metadata": {},
   "source": [
    "We're interested in Eta Carinae, and we want to get the RXTE cycle, proposal, and observation ID etc. for every observation it took of this source based on its position.  (Just in case the name has been entered differently, which can happen.)  This constructs a query in the ADQL language to select the columns (target_name, cycle, prnb, obsid, time, exposure, ra, dec) where the point defined by the observation's RA and DEC lies inside a circle defined by our chosen source position.  The results will be sorted by time.  See the [NAVO website](https://heasarc.gsfc.nasa.gov/vo/summary/python.html) for more information on how to use these services with python and how to construct ADQL queries for catalog searches."
   ]
  },
  {
   "cell_type": "code",
   "execution_count": 6,
   "metadata": {},
   "outputs": [],
   "source": [
    "# Get the coordinate for Eta Car\n",
    "import astropy.coordinates as coord\n",
    "pos=coord.SkyCoord.from_name(\"eta car\")\n",
    "query=\"\"\"SELECT target_name, cycle, prnb, obsid, time, exposure, ra, dec \n",
    "    FROM public.xtemaster as cat \n",
    "    where \n",
    "    contains(point('ICRS',cat.ra,cat.dec),circle('ICRS',{},{},0.1))=1 \n",
    "    and \n",
    "    cat.exposure > 0 order by cat.time\n",
    "    \"\"\".format(pos.ra.deg, pos.dec.deg)"
   ]
  },
  {
   "cell_type": "code",
   "execution_count": 7,
   "metadata": {
    "scrolled": true
   },
   "outputs": [
    {
     "data": {
      "text/html": [
       "<i>Table length=1368</i>\n",
       "<table id=\"table140537666975392\" class=\"table-striped table-bordered table-condensed\">\n",
       "<thead><tr><th>target_name</th><th>cycle</th><th>prnb</th><th>obsid</th><th>time</th><th>exposure</th><th>ra</th><th>dec</th></tr></thead>\n",
       "<thead><tr><th></th><th></th><th></th><th></th><th>mjd</th><th>s</th><th>deg</th><th>deg</th></tr></thead>\n",
       "<thead><tr><th>object</th><th>int16</th><th>int32</th><th>object</th><th>float64</th><th>float64</th><th>float64</th><th>float64</th></tr></thead>\n",
       "<tr><td>ETA_CAR</td><td>1</td><td>10004</td><td>10004-01-40-00</td><td>50122.64263</td><td>1091</td><td>161.2583</td><td>-59.6800</td></tr>\n",
       "<tr><td>ETA_CAR</td><td>1</td><td>10004</td><td>10004-01-39-00</td><td>50129.42992</td><td>945</td><td>161.2583</td><td>-59.6800</td></tr>\n",
       "<tr><td>ETA_CAR</td><td>1</td><td>10004</td><td>10004-01-38-00</td><td>50134.57053</td><td>1018</td><td>161.2583</td><td>-59.6800</td></tr>\n",
       "<tr><td>ETA_CAR</td><td>1</td><td>10004</td><td>10004-01-41-00</td><td>50142.85058</td><td>958</td><td>161.2583</td><td>-59.6800</td></tr>\n",
       "<tr><td>ETA_CAR</td><td>1</td><td>10004</td><td>10004-01-37-00</td><td>50147.83134</td><td>1778</td><td>161.2583</td><td>-59.6800</td></tr>\n",
       "<tr><td>ETA_CAR</td><td>1</td><td>10004</td><td>10004-01-36-00</td><td>50150.58692</td><td>696</td><td>161.2583</td><td>-59.6800</td></tr>\n",
       "<tr><td>ETA_CAR</td><td>1</td><td>10004</td><td>10004-01-36-01</td><td>50154.99084</td><td>1098</td><td>161.2583</td><td>-59.6800</td></tr>\n",
       "<tr><td>ETA_CAR</td><td>1</td><td>10004</td><td>10004-01-35-00</td><td>50162.75743</td><td>1109</td><td>161.2583</td><td>-59.6800</td></tr>\n",
       "<tr><td>ETA_CAR</td><td>1</td><td>10004</td><td>10004-01-32-00</td><td>50180.19184</td><td>921</td><td>161.2583</td><td>-59.6800</td></tr>\n",
       "<tr><td>...</td><td>...</td><td>...</td><td>...</td><td>...</td><td>...</td><td>...</td><td>...</td></tr>\n",
       "<tr><td>ETA_CAR</td><td>15</td><td>96002</td><td>96002-01-43-00</td><td>55859.4621</td><td>1147</td><td>161.2650</td><td>-59.6845</td></tr>\n",
       "<tr><td>ETA_CAR</td><td>15</td><td>96002</td><td>96002-01-44-00</td><td>55868.91589</td><td>1029</td><td>161.2650</td><td>-59.6845</td></tr>\n",
       "<tr><td>ETA_CAR</td><td>15</td><td>96002</td><td>96002-01-45-00</td><td>55874.66102</td><td>973</td><td>161.2650</td><td>-59.6845</td></tr>\n",
       "<tr><td>ETA_CAR</td><td>15</td><td>96002</td><td>96002-01-46-00</td><td>55882.9605</td><td>894</td><td>161.2650</td><td>-59.6845</td></tr>\n",
       "<tr><td>ETA_CAR</td><td>15</td><td>96002</td><td>96002-01-47-00</td><td>55889.73619</td><td>1135</td><td>161.2650</td><td>-59.6845</td></tr>\n",
       "<tr><td>ETA_CAR</td><td>15</td><td>96002</td><td>96002-01-48-00</td><td>55895.6681</td><td>1550</td><td>161.2650</td><td>-59.6845</td></tr>\n",
       "<tr><td>ETA_CAR</td><td>15</td><td>96002</td><td>96002-01-49-00</td><td>55902.51077</td><td>1137</td><td>161.2650</td><td>-59.6845</td></tr>\n",
       "<tr><td>ETA_CAR</td><td>15</td><td>96002</td><td>96002-01-50-00</td><td>55909.92591</td><td>1339</td><td>161.2650</td><td>-59.6845</td></tr>\n",
       "<tr><td>ETA_CAR</td><td>15</td><td>96002</td><td>96002-01-51-00</td><td>55916.80008</td><td>954</td><td>161.2650</td><td>-59.6845</td></tr>\n",
       "<tr><td>ETA_CAR</td><td>15</td><td>96002</td><td>96002-01-52-00</td><td>55923.7098</td><td>1075</td><td>161.2650</td><td>-59.6845</td></tr>\n",
       "</table>"
      ],
      "text/plain": [
       "<Table length=1368>\n",
       "target_name cycle  prnb     obsid          time    exposure    ra      dec   \n",
       "                                           mjd        s       deg      deg   \n",
       "   object   int16 int32     object       float64   float64  float64  float64 \n",
       "----------- ----- ----- -------------- ----------- -------- -------- --------\n",
       "    ETA_CAR     1 10004 10004-01-40-00 50122.64263     1091 161.2583 -59.6800\n",
       "    ETA_CAR     1 10004 10004-01-39-00 50129.42992      945 161.2583 -59.6800\n",
       "    ETA_CAR     1 10004 10004-01-38-00 50134.57053     1018 161.2583 -59.6800\n",
       "    ETA_CAR     1 10004 10004-01-41-00 50142.85058      958 161.2583 -59.6800\n",
       "    ETA_CAR     1 10004 10004-01-37-00 50147.83134     1778 161.2583 -59.6800\n",
       "    ETA_CAR     1 10004 10004-01-36-00 50150.58692      696 161.2583 -59.6800\n",
       "    ETA_CAR     1 10004 10004-01-36-01 50154.99084     1098 161.2583 -59.6800\n",
       "    ETA_CAR     1 10004 10004-01-35-00 50162.75743     1109 161.2583 -59.6800\n",
       "    ETA_CAR     1 10004 10004-01-32-00 50180.19184      921 161.2583 -59.6800\n",
       "        ...   ...   ...            ...         ...      ...      ...      ...\n",
       "    ETA_CAR    15 96002 96002-01-43-00  55859.4621     1147 161.2650 -59.6845\n",
       "    ETA_CAR    15 96002 96002-01-44-00 55868.91589     1029 161.2650 -59.6845\n",
       "    ETA_CAR    15 96002 96002-01-45-00 55874.66102      973 161.2650 -59.6845\n",
       "    ETA_CAR    15 96002 96002-01-46-00  55882.9605      894 161.2650 -59.6845\n",
       "    ETA_CAR    15 96002 96002-01-47-00 55889.73619     1135 161.2650 -59.6845\n",
       "    ETA_CAR    15 96002 96002-01-48-00  55895.6681     1550 161.2650 -59.6845\n",
       "    ETA_CAR    15 96002 96002-01-49-00 55902.51077     1137 161.2650 -59.6845\n",
       "    ETA_CAR    15 96002 96002-01-50-00 55909.92591     1339 161.2650 -59.6845\n",
       "    ETA_CAR    15 96002 96002-01-51-00 55916.80008      954 161.2650 -59.6845\n",
       "    ETA_CAR    15 96002 96002-01-52-00  55923.7098     1075 161.2650 -59.6845"
      ]
     },
     "execution_count": 7,
     "metadata": {},
     "output_type": "execute_result"
    }
   ],
   "source": [
    "results=tap_services[0].search(query).to_table()\n",
    "results"
   ]
  },
  {
   "cell_type": "markdown",
   "metadata": {},
   "source": [
    "Let's just see how long these observations are:"
   ]
  },
  {
   "cell_type": "code",
   "execution_count": 8,
   "metadata": {},
   "outputs": [
    {
     "data": {
      "text/plain": [
       "[<matplotlib.lines.Line2D at 0x7fd179ad16d0>]"
      ]
     },
     "execution_count": 8,
     "metadata": {},
     "output_type": "execute_result"
    },
    {
     "data": {
      "image/png": "[encoded data removed]",
      "text/plain": [
       "<Figure size 432x288 with 1 Axes>"
      ]
     },
     "metadata": {
      "needs_background": "light"
     },
     "output_type": "display_data"
    }
   ],
   "source": [
    "plt.plot(results['time'],results['exposure'])"
   ]
  },
  {
   "cell_type": "markdown",
   "metadata": {},
   "source": [
    "###  Step 2:  combine standard products and plot\n",
    "\n",
    "Let's collect all the standard product light curves for RXTE.  (These are described on the [RXTE analysis pages](https://heasarc.gsfc.nasa.gov/docs/xte/recipes/cook_book.html).)"
   ]
  },
  {
   "cell_type": "code",
   "execution_count": 9,
   "metadata": {},
   "outputs": [
    {
     "data": {
      "text/plain": [
       "array([( 1, 10004, '10004-01-40-00', 50122.64263),\n",
       "       ( 1, 10004, '10004-01-39-00', 50129.42992),\n",
       "       ( 1, 10004, '10004-01-38-00', 50134.57053), ...,\n",
       "       (15, 96002, '96002-01-50-00', 55909.92591),\n",
       "       (15, 96002, '96002-01-51-00', 55916.80008),\n",
       "       (15, 96002, '96002-01-52-00', 55923.7098 )],\n",
       "      dtype=[('cycle', '<i2'), ('prnb', '<i4'), ('obsid', 'O'), ('time', '<f8')])"
      ]
     },
     "execution_count": 9,
     "metadata": {},
     "output_type": "execute_result"
    }
   ],
   "source": [
    "## Need cycle number as well, since after AO9, \n",
    "##  no longer 1st digit of proposal number\n",
    "ids=np.unique( results['cycle','prnb','obsid','time'])\n",
    "ids.sort(order='time')\n",
    "ids"
   ]
  },
  {
   "cell_type": "code",
   "execution_count": 10,
   "metadata": {},
   "outputs": [
    {
     "name": "stdout",
     "output_type": "stream",
     "text": [
      "Found 1364 out of 1368 files\n"
     ]
    }
   ],
   "source": [
    "## Construct a file list.\n",
    "##  In this case, the name changes\n",
    "import glob\n",
    "# Though Jupyter Lab container\n",
    "rootdir=\"/home/idies/workspace/headata/FTP\"\n",
    "# Through batch ?\n",
    "#rootdir=\"/home/idies/workspace/HEASARC\\ data\"\n",
    "rxtedata=\"rxte/data/archive\"\n",
    "filenames=[]\n",
    "for (k,val) in enumerate(ids['obsid']):\n",
    "    fname=\"{}/{}/AO{}/P{}/{}/stdprod/xp{}_n2a.lc.gz\".format(\n",
    "        rootdir,\n",
    "        rxtedata,\n",
    "        ids['cycle'][k],\n",
    "        ids['prnb'][k],\n",
    "        ids['obsid'][k],\n",
    "        ids['obsid'][k].replace('-',''))\n",
    "    #print(fname)\n",
    "    f=glob.glob(fname)\n",
    "    if (len(f) > 0):\n",
    "        filenames.append(f[0])\n",
    "print(\"Found {} out of {} files\".format(len(filenames),len(ids)))"
   ]
  },
  {
   "cell_type": "markdown",
   "metadata": {},
   "source": [
    "Let's collect them all into one light curve:"
   ]
  },
  {
   "cell_type": "code",
   "execution_count": 11,
   "metadata": {},
   "outputs": [
    {
     "name": "stdout",
     "output_type": "stream",
     "text": [
      "On file /home/idies/workspace/headata/FTP/rxte/data/archive/AO1/P10004/10004-01-39-00/stdprod/xp10004013900_n2a.lc.gz\n",
      "On file /home/idies/workspace/headata/FTP/rxte/data/archive/AO2/P20003/20003-01-34-00/stdprod/xp20003013400_n2a.lc.gz\n",
      "On file /home/idies/workspace/headata/FTP/rxte/data/archive/AO3/P30006/30006-03-02-00/stdprod/xp30006030200_n2a.lc.gz\n",
      "On file /home/idies/workspace/headata/FTP/rxte/data/archive/AO4/P40003/40003-01-33-00/stdprod/xp40003013300_n2a.lc.gz\n",
      "On file /home/idies/workspace/headata/FTP/rxte/data/archive/AO5/P50003/50003-01-28-00/stdprod/xp50003012800_n2a.lc.gz\n",
      "On file /home/idies/workspace/headata/FTP/rxte/data/archive/AO6/P60003/60003-01-28-00/stdprod/xp60003012800_n2a.lc.gz\n",
      "On file /home/idies/workspace/headata/FTP/rxte/data/archive/AO7/P70001/70001-01-51-00/stdprod/xp70001015100_n2a.lc.gz\n",
      "On file /home/idies/workspace/headata/FTP/rxte/data/archive/AO8/P80001/80001-01-36-00/stdprod/xp80001013600_n2a.lc.gz\n",
      "On file /home/idies/workspace/headata/FTP/rxte/data/archive/AO8/P80001/80001-01-39-10/stdprod/xp80001013910_n2a.lc.gz\n",
      "On file /home/idies/workspace/headata/FTP/rxte/data/archive/AO8/P80001/80001-02-19-00/stdprod/xp80001021900_n2a.lc.gz\n",
      "On file /home/idies/workspace/headata/FTP/rxte/data/archive/AO10/P91001/91001-01-23-00/stdprod/xp91001012300_n2a.lc.gz\n",
      "On file /home/idies/workspace/headata/FTP/rxte/data/archive/AO12/P93002/93002-02-02-00/stdprod/xp93002020200_n2a.lc.gz\n",
      "On file /home/idies/workspace/headata/FTP/rxte/data/archive/AO13/P94418/94418-01-04-00/stdprod/xp94418010400_n2a.lc.gz\n",
      "On file /home/idies/workspace/headata/FTP/rxte/data/archive/AO14/P95002/95002-01-41-00/stdprod/xp95002014100_n2a.lc.gz\n"
     ]
    },
    {
     "data": {
      "image/png": "[encoded data removed]",
      "text/plain": [
       "<Figure size 432x288 with 1 Axes>"
      ]
     },
     "metadata": {
      "needs_background": "light"
     },
     "output_type": "display_data"
    }
   ],
   "source": [
    "hdul = fits.open(filenames.pop(0))\n",
    "data = hdul[1].data\n",
    "cnt=0\n",
    "lcs=[]\n",
    "for f in filenames:\n",
    "    if cnt % 100 == 0:\n",
    "        print(\"On file {}\".format(f))\n",
    "    hdul = fits.open(f)\n",
    "    d = hdul[1].data\n",
    "    data=np.hstack([data,d])\n",
    "    plt.plot(d['TIME'],d['RATE'])\n",
    "    lcs.append(d)\n",
    "    cnt+=1"
   ]
  },
  {
   "cell_type": "code",
   "execution_count": 12,
   "metadata": {
    "scrolled": true
   },
   "outputs": [
    {
     "name": "stdout",
     "output_type": "stream",
     "text": [
      "On file /home/idies/workspace/headata/FTP/rxte/data/archive/AO1/P10004/10004-01-38-00/stdprod/xp10004013800_n2a.lc.gz\n",
      "   adding 62 rows from TSTART=67528291\n",
      "On file /home/idies/workspace/headata/FTP/rxte/data/archive/AO2/P20003/20003-01-35-00/stdprod/xp20003013500_n2a.lc.gz\n",
      "   adding 91 rows from TSTART=112752947\n",
      "On file /home/idies/workspace/headata/FTP/rxte/data/archive/AO3/P30006/30006-03-03-00/stdprod/xp30006030300_n2a.lc.gz\n",
      "   adding 54 rows from TSTART=135386003\n",
      "On file /home/idies/workspace/headata/FTP/rxte/data/archive/AO4/P40003/40003-01-34-00/stdprod/xp40003013400_n2a.lc.gz\n",
      "   adding 40 rows from TSTART=169214851\n",
      "On file /home/idies/workspace/headata/FTP/rxte/data/archive/AO5/P50003/50003-01-29-00/stdprod/xp50003012900_n2a.lc.gz\n",
      "   adding 94 rows from TSTART=204427763\n",
      "On file /home/idies/workspace/headata/FTP/rxte/data/archive/AO6/P60003/60003-01-29-00/stdprod/xp60003012900_n2a.lc.gz\n",
      "   adding 94 rows from TSTART=239364787\n",
      "On file /home/idies/workspace/headata/FTP/rxte/data/archive/AO7/P70001/70001-01-52-00/stdprod/xp70001015200_n2a.lc.gz\n",
      "   adding 79 rows from TSTART=273115683\n",
      "On file /home/idies/workspace/headata/FTP/rxte/data/archive/AO8/P80001/80001-01-37-00/stdprod/xp80001013700_n2a.lc.gz\n",
      "   adding 53 rows from TSTART=292247651\n",
      "On file /home/idies/workspace/headata/FTP/rxte/data/archive/AO8/P80001/80001-01-40-10/stdprod/xp80001014010_n2a.lc.gz\n",
      "   adding 48 rows from TSTART=300969331\n",
      "On file /home/idies/workspace/headata/FTP/rxte/data/archive/AO8/P80001/80001-02-20-00/stdprod/xp80001022000_n2a.lc.gz\n",
      "   adding 52 rows from TSTART=313200563\n",
      "On file /home/idies/workspace/headata/FTP/rxte/data/archive/AO10/P91001/91001-01-24-00/stdprod/xp91001012400_n2a.lc.gz\n",
      "   adding 43 rows from TSTART=381492067\n",
      "On file /home/idies/workspace/headata/FTP/rxte/data/archive/AO12/P93002/93002-02-03-00/stdprod/xp93002020300_n2a.lc.gz\n",
      "   adding 60 rows from TSTART=462923203\n",
      "On file /home/idies/workspace/headata/FTP/rxte/data/archive/AO13/P94418/94418-01-05-00/stdprod/xp94418010500_n2a.lc.gz\n",
      "   adding 41 rows from TSTART=479671043\n",
      "On file /home/idies/workspace/headata/FTP/rxte/data/archive/AO14/P95002/95002-01-42-00/stdprod/xp95002014200_n2a.lc.gz\n",
      "   adding 41 rows from TSTART=530128675\n"
     ]
    }
   ],
   "source": [
    "hdul = fits.open(filenames.pop(0))\n",
    "data = hdul[1].data\n",
    "cnt=0\n",
    "for f in filenames:\n",
    "    hdul = fits.open(f)\n",
    "    d = hdul[1].data\n",
    "    data=np.hstack([data,d])\n",
    "    if cnt % 100 == 0:\n",
    "        print(\"On file {}\".format(f))\n",
    "        print(\"   adding {} rows from TSTART={}\".format(d.shape[0],hdul[1].header['TSTARTI']))\n",
    "    cnt+=1\n",
    "## The above LCs are merged per proposal.  You can see that some proposals\n",
    "##  had data added later, after other proposals, so you need to sort:\n",
    "data.sort(order='TIME')\n"
   ]
  },
  {
   "cell_type": "code",
   "execution_count": 13,
   "metadata": {},
   "outputs": [
    {
     "data": {
      "text/plain": [
       "[<matplotlib.lines.Line2D at 0x7fd177134b50>]"
      ]
     },
     "execution_count": 13,
     "metadata": {},
     "output_type": "execute_result"
    },
    {
     "data": {
      "image/png": "[encoded data removed]",
      "text/plain": [
       "<Figure size 432x288 with 1 Axes>"
      ]
     },
     "metadata": {
      "needs_background": "light"
     },
     "output_type": "display_data"
    }
   ],
   "source": [
    "plt.plot(data['TIME'],data['RATE'])\n"
   ]
  },
  {
   "cell_type": "markdown",
   "metadata": {},
   "source": [
    "### Step 3:  Re-extract a light-curve\n",
    "\n",
    "Now we go out and read about how to analyze RXTE data, and we decide that we need different channel boundaries than were used in the standard products.  We can write a little function that does the RXTE data analysis steps for every observation to extract a lightcurve and read it into memory to recreate the above dataset.  This function may look complicated, but it only calls three RXTE executables:\n",
    "\n",
    "* pcaprepobsid\n",
    "* maketime\n",
    "* pcaextlc2\n",
    "\n",
    "which extracts the Standard mode 2 data (not to be confused with the \"standard products\") for the channels you're interested in.  It has a bit of error checking that'll help when launching a long job.\n",
    "\n",
    "Note that each call to this function will take 10-20 seconds to complete.  So when we run a whole proposal, we'll have to wait a while. "
   ]
  },
  {
   "cell_type": "code",
   "execution_count": 14,
   "metadata": {},
   "outputs": [],
   "source": [
    "\n",
    "class XlcError( Exception ):\n",
    "    pass\n",
    "\n",
    "\n",
    "#  Define a function that, given an ObsID, does the rxte light curve extraction\n",
    "def rxte_lc( obsid=None, ao=None , chmin=None, chmax=None, cleanup=True):\n",
    "    rootdir=\"/home/idies/workspace/headata/FTP\"\n",
    "    rxtedata=\"rxte/data/archive\"\n",
    "    obsdir=\"{}/{}/AO{}/P{}/{}/\".format(\n",
    "        rootdir,\n",
    "        rxtedata,\n",
    "        ao,\n",
    "        obsid[0:5],\n",
    "        obsid\n",
    "    )\n",
    "    #print(\"Looking for obsdir={}\".format(obsdir))\n",
    "    outdir=\"tmp.{}\".format(obsid)\n",
    "    if (not os.path.isdir(outdir)):\n",
    "        os.mkdir(outdir)\n",
    "\n",
    "    if cleanup and os.path.isdir(outdir):\n",
    "        shutil.rmtree(outdir,ignore_errors=True)\n",
    "\n",
    "    try:\n",
    "        #print(\"Running pcaprepobsid\")\n",
    "        result=hsp.pcaprepobsid(indir=obsdir,\n",
    "                                outdir=outdir\n",
    "                               )\n",
    "        print(result.stdout)\n",
    "        #  This one doesn't seem to return correctly, so this doesn't trap!\n",
    "        if result.returncode != 0:\n",
    "            raise XlcError(\"pcaprepobsid returned status {}\".format(result.returncode))\n",
    "    except:\n",
    "        raise\n",
    "    # Recommended filter from RTE Cookbook pages:\n",
    "    filt_expr = \"(ELV > 4) && (OFFSET < 0.1) && (NUM_PCU_ON > 0) && .NOT. ISNULL(ELV) && (NUM_PCU_ON < 6)\"\n",
    "    try:\n",
    "        filt_file=glob.glob(outdir+\"/FP_*.xfl\")[0]\n",
    "    except:\n",
    "        raise XlcError(\"pcaprepobsid doesn't seem to have made a filter file!\")\n",
    "\n",
    "    try:\n",
    "        #print(\"Running maketime\")\n",
    "        result=hsp.maketime(infile=filt_file, \n",
    "                            outfile=os.path.join(outdir,'rxte_example.gti'),\n",
    "                            expr=filt_expr, name='NAME', \n",
    "                            value='VALUE', \n",
    "                            time='TIME', \n",
    "                            compact='NO')\n",
    "        #print(result.stdout)\n",
    "        if result.returncode != 0:\n",
    "            raise XlcError(\"maketime returned status {}\".format(result.returncode))\n",
    "    except:\n",
    "        raise\n",
    "      \n",
    "    try:\n",
    "        #print(\"Running pcaextlc2\")\n",
    "        result=hsp.pcaextlc2(src_infile=\"@{}/FP_dtstd2.lis\".format(outdir),\n",
    "                             bkg_infile=\"@{}/FP_dtbkg2.lis\".format(outdir),\n",
    "                             outfile=os.path.join(outdir,'rxte_example.lc'), \n",
    "                             gtiandfile=os.path.join(outdir,'rxte_example.gti'),\n",
    "                             chmin=chmin,\n",
    "                             chmax=chmax,\n",
    "                             pculist='ALL', layerlist='ALL', binsz=16)\n",
    "        #print(result.stdout)\n",
    "        if result.returncode != 0:\n",
    "            raise XlcError(\"pcaextlc2 returned status {}\".format(result.returncode))\n",
    "    except:\n",
    "        raise\n",
    "\n",
    "    with pyfits.open(os.path.join(outdir,'rxte_example.lc'),memmap=False) as hdul:\n",
    "        lc=hdul[1].data\n",
    "    if cleanup:\n",
    "        shutil.rmtree(outdir,ignore_errors=True)\n",
    "    return lc\n"
   ]
  },
  {
   "cell_type": "markdown",
   "metadata": {},
   "source": [
    "Let's look just at a small part of the time range, and look at only the first few for speed:"
   ]
  },
  {
   "cell_type": "code",
   "execution_count": null,
   "metadata": {
    "scrolled": true
   },
   "outputs": [],
   "source": [
    "break_at=10\n",
    "#with pipes() as (out, err):\n",
    "for (k,val) in enumerate(ids):\n",
    "    if k>break_at:  break\n",
    "    l=rxte_lc(ao=val['cycle'], obsid=val['obsid'], chmin=5,chmax=10)    \n",
    "    try:\n",
    "        lc=np.hstack([lc,l])\n",
    "    except:\n",
    "        lc=l\n",
    "        "
   ]
  },
  {
   "cell_type": "code",
   "execution_count": 18,
   "metadata": {},
   "outputs": [],
   "source": [
    "# Because the obsids won't necessarily be processed in time order\n",
    "lc.sort(order='TIME')"
   ]
  },
  {
   "cell_type": "code",
   "execution_count": 19,
   "metadata": {},
   "outputs": [
    {
     "data": {
      "text/plain": [
       "[<matplotlib.lines.Line2D at 0x7fd1affe9c70>]"
      ]
     },
     "execution_count": 19,
     "metadata": {},
     "output_type": "execute_result"
    },
    {
     "data": {
      "image/png": "[encoded data removed]",
      "text/plain": [
       "<Figure size 432x288 with 1 Axes>"
      ]
     },
     "metadata": {
      "needs_background": "light"
     },
     "output_type": "display_data"
    }
   ],
   "source": [
    "plt.plot(lc['TIME'],lc['RATE'])"
   ]
  },
  {
   "cell_type": "code",
   "execution_count": 20,
   "metadata": {},
   "outputs": [],
   "source": [
    "hdu = pyfits.BinTableHDU(lc)\n",
    "pyfits.HDUList([pyfits.PrimaryHDU(),hdu]).writeto('eta_car.lc',overwrite=True)\n"
   ]
  },
  {
   "cell_type": "markdown",
   "metadata": {},
   "source": [
    "You could then remove the break in the above loop and submit this job to the [batch queue](https://apps.sciserver.org/compute/jobs)."
   ]
  },
  {
   "cell_type": "code",
   "execution_count": null,
   "metadata": {},
   "outputs": [],
   "source": []
  }
 ],
 "metadata": {
  "kernelspec": {
   "display_name": "Python 3",
   "language": "python",
   "name": "python3"
  },
  "language_info": {
   "codemirror_mode": {
    "name": "ipython",
    "version": 3
   },
   "file_extension": ".py",
   "mimetype": "text/x-python",
   "name": "python",
   "nbconvert_exporter": "python",
   "pygments_lexer": "ipython3",
   "version": "3.8.5"
  }
 },
 "nbformat": 4,
 "nbformat_minor": 4
}
