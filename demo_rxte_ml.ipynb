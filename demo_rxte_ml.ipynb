{
 "cells": [
  {
   "cell_type": "markdown",
   "metadata": {},
   "source": [
    "# SciServer Example: Analysis of HEASARC data with minimal Machine Learning\n",
    "<font size=\"3\">Assume that we know nothing about the stellar system Eta Carinae, but want to gain a broad understanding of its behavior.  We can achieve this with very litte code and some basic machine learning techniques.</font>"
   ]
  },
  {
   "cell_type": "code",
   "execution_count": null,
   "metadata": {},
   "outputs": [],
   "source": [
    "#install packages not included the baseline\n",
    "#!pip install scikit-learn\n",
    "#!pip install umap-learn\n",
    "#!pip install pyvo\n",
    "#!pip install matplotlib"
   ]
  },
  {
   "cell_type": "code",
   "execution_count": null,
   "metadata": {},
   "outputs": [],
   "source": [
    "#!pip install tqdm"
   ]
  },
  {
   "cell_type": "code",
   "execution_count": null,
   "metadata": {},
   "outputs": [],
   "source": [
    "#necessary imports\n",
    "import sys,os\n",
    "import pyvo as vo\n",
    "import numpy as np\n",
    "from astropy.io import fits\n",
    "import re\n",
    "from tqdm import tqdm\n",
    "import matplotlib.pyplot as plt\n",
    "%matplotlib inline  \n",
    "import xspec\n",
    "xspec.Xset.allowPrompting = False "
   ]
  },
  {
   "cell_type": "code",
   "execution_count": null,
   "metadata": {},
   "outputs": [],
   "source": [
    "# Set up the catalog\n",
    "tap_services=vo.regsearch(servicetype='table',keywords=['heasarc'])\n",
    "heasarc_tables=tap_services[0].service.tables"
   ]
  },
  {
   "cell_type": "markdown",
   "metadata": {},
   "source": [
    "<font size=\"3\">Get the coordinates for Eta Carinae</font>"
   ]
  },
  {
   "cell_type": "code",
   "execution_count": null,
   "metadata": {},
   "outputs": [],
   "source": [
    "import astropy.coordinates as coord\n",
    "pos=coord.SkyCoord.from_name(\"Eta Car\")\n",
    "## For now, have to google xtemaster to get the columns, find them here:\n",
    "##  https://heasarc.gsfc.nasa.gov/W3Browse/all/xtemaster.html\n",
    "##  (In future, should be a pyvo function.)\n",
    "query=\"\"\"SELECT target_name, cycle, prnb, obsid, time, exposure, ra, dec \n",
    "    FROM public.xtemaster as cat \n",
    "    where \n",
    "    contains(point('ICRS',cat.ra,cat.dec),circle('ICRS',{},{},0.1))=1 \n",
    "    and \n",
    "    cat.exposure > 0 order by cat.time\n",
    "    \"\"\".format(pos.ra.deg, pos.dec.deg)"
   ]
  },
  {
   "cell_type": "markdown",
   "metadata": {},
   "source": [
    "<font size=\"3\">Retrieve all RXTE observations of Eta Carinae</font>"
   ]
  },
  {
   "cell_type": "code",
   "execution_count": null,
   "metadata": {},
   "outputs": [],
   "source": [
    "results=tap_services[0].search(query).to_table()\n",
    "results"
   ]
  },
  {
   "cell_type": "markdown",
   "metadata": {},
   "source": [
    "<font size=\"3\">Collect useful information from the table</font>"
   ]
  },
  {
   "cell_type": "code",
   "execution_count": null,
   "metadata": {},
   "outputs": [],
   "source": [
    "pids=np.unique( results['cycle','prnb'])\n",
    "pids"
   ]
  },
  {
   "cell_type": "markdown",
   "metadata": {},
   "source": [
    "<font size=\"3\">Construct a file list of all the spectra in the standard products, keep the times for later reference</font>"
   ]
  },
  {
   "cell_type": "code",
   "execution_count": null,
   "metadata": {},
   "outputs": [],
   "source": [
    "rootdir=\"/home/idies/workspace/headata/FTP/\"\n",
    "rxtedata=\"rxte/data/archive/\"\n",
    "sfilenames=[]\n",
    "bfilenames=[]\n",
    "rfilenames=[]\n",
    "times=[]\n",
    "for i in tqdm(range(pids.shape[0])):\n",
    "    if not os.path.isdir(rootdir+rxtedata+'AO'+str(pids[i][0])+'/P'+str(pids[i][1])):\n",
    "        print(f\"Skipping {pids[i]}\")\n",
    "        continue\n",
    "    obsdirs=os.listdir(rootdir+rxtedata+'AO'+str(pids[i][0])+'/P'+str(pids[i][1]))\n",
    "    if 'FMI' in obsdirs:\n",
    "        obsdirs.remove('FMI')\n",
    "    for obsdir in obsdirs:\n",
    "        if os.path.isdir(rootdir+rxtedata+'AO'+str(pids[i][0])+'/P'+str(pids[i][1])+'/'+obsdir+'/stdprod'):\n",
    "            obsfiles=os.listdir(rootdir+rxtedata+'AO'+str(pids[i][0])+'/P'+str(pids[i][1])+'/'+obsdir+'/stdprod')\n",
    "            sphafiles=[f for f in obsfiles if f.endswith('s2.pha.gz')]\n",
    "            bphafiles=[f for f in obsfiles if f.endswith('b2.pha.gz')]\n",
    "            rspfiles=[f for f in obsfiles if f.endswith('.rsp.gz')]\n",
    "            if (len(sphafiles)==1) & (len(bphafiles)==1) & (len(rspfiles)==1):\n",
    "                sfilenames.append(rootdir+rxtedata+'AO'+str(pids[i][0])+'/P'+str(pids[i][1])+'/'+obsdir+'/stdprod/'+sphafiles[0])\n",
    "                bfilenames.append(rootdir+rxtedata+'AO'+str(pids[i][0])+'/P'+str(pids[i][1])+'/'+obsdir+'/stdprod/'+bphafiles[0])\n",
    "                rfilenames.append(rootdir+rxtedata+'AO'+str(pids[i][0])+'/P'+str(pids[i][1])+'/'+obsdir+'/stdprod/'+rspfiles[0])\n",
    "                fitsfile=fits.open(sfilenames[-1],memmap=False)\n",
    "                times.append(fitsfile[0].header['TSTART'])"
   ]
  },
  {
   "cell_type": "markdown",
   "metadata": {},
   "source": [
    "<font size=\"3\">Change the spectra from channel space to energy space. This is especially necessary for RXTE, where the energy values of channels changed over the course of the mission.\n",
    "</font>"
   ]
  },
  {
   "cell_type": "code",
   "execution_count": null,
   "metadata": {},
   "outputs": [],
   "source": [
    "pids"
   ]
  },
  {
   "cell_type": "code",
   "execution_count": null,
   "metadata": {},
   "outputs": [],
   "source": [
    "specs=[]\n",
    "\n",
    "#select energy range to interpolate\n",
    "#start at 2 keV due to low-resolution noise below that energy - specific to RXTE\n",
    "#stop at 12 keV due to no visible activity from Eta Carinae above that energy\n",
    "#step size of .1 keV\n",
    "\n",
    "xref=np.arange(2.,12.,.1)\n",
    "\n",
    "for src,bkg,rsp in tqdm(zip(sfilenames,bfilenames,rfilenames)):\n",
    "    xspec.AllData.clear()  # clear out any previously loaded dataset\n",
    "    s = xspec.Spectrum(src) \n",
    "    s.background=bkg\n",
    "    s.response=rsp\n",
    "    xspec.Plot.area=True;\n",
    "    xspec.Plot.xAxis = \"keV\";\n",
    "    xspec.Plot.add = True;\n",
    "    xspec.Plot(\"data\");\n",
    "    xspec.Plot.background = True;\n",
    "    xVals = xspec.Plot.x();\n",
    "    yVals = xspec.Plot.y();\n",
    "    yref= np.interp(xref, xVals, yVals); \n",
    "    specs.append(yref);\n",
    "\n",
    "specs=np.array(specs)"
   ]
  },
  {
   "cell_type": "markdown",
   "metadata": {},
   "source": [
    "<font size=\"3\">Plot the collected spectra\n",
    "</font>"
   ]
  },
  {
   "cell_type": "code",
   "execution_count": null,
   "metadata": {},
   "outputs": [],
   "source": [
    "xvals=np.tile(xref,(specs.shape[0],1))\n",
    "plt.figure(figsize=(10,6));\n",
    "plt.plot(xvals.T,specs.T);\n",
    "plt.semilogx();\n",
    "plt.semilogy();\n",
    "plt.xlabel('Energy (keV)');\n",
    "plt.ylabel('Normalized Count Rate (C/s)');\n",
    "plt.title('Eta Carinae RXTE Spectra (log-log)');"
   ]
  },
  {
   "cell_type": "markdown",
   "metadata": {},
   "source": [
    "<font size=\"3\">Here we start the ML work.  Scale the spectra in order to compare the behavior, not the magnitude. Note that after applying the scaler, log-log plots will be nonsensical, so we will only plot on a linear scale\n",
    "</font>"
   ]
  },
  {
   "cell_type": "code",
   "execution_count": null,
   "metadata": {},
   "outputs": [],
   "source": [
    "from sklearn.preprocessing import StandardScaler\n",
    "\n",
    "scaled_specs=[]\n",
    "for i in tqdm(range(specs.shape[0])):\n",
    "    s=StandardScaler()\n",
    "    scaled_specs.append(s.fit_transform(specs[i].reshape(-1,1)).T[0])\n",
    "scaled_specs=np.array(scaled_specs)"
   ]
  },
  {
   "cell_type": "markdown",
   "metadata": {},
   "source": [
    "<font size=\"3\">Plot the scaled and unscaled spectra for comparison</font>"
   ]
  },
  {
   "cell_type": "code",
   "execution_count": null,
   "metadata": {},
   "outputs": [],
   "source": [
    "plt.figure(figsize=(10,6));\n",
    "plt.plot(xvals.T,scaled_specs.T);\n",
    "plt.xlabel('Energy (keV)');\n",
    "plt.ylabel('Scaled Normalized Count Rate (C/s)');\n",
    "plt.title('Scaled Eta Carinae RXTE Spectra (lin-lin)');\n",
    "\n",
    "plt.figure(figsize=(10,6));\n",
    "plt.plot(xvals.T,specs.T);\n",
    "plt.xlabel('Energy (keV)');\n",
    "plt.ylabel('Normalized Count Rate (C/s)');\n",
    "plt.title('Unscaled Eta Carinae RXTE Spectra (lin-lin)');"
   ]
  },
  {
   "cell_type": "markdown",
   "metadata": {},
   "source": [
    "<font size=\"3\">Note that the scaled spectra all have a similiar shape AND magnitude, whereas the unscaled spectra have a similar shape but not mangitude.\n",
    "Scaling has the effect of making big features smaller, but small features bigger. So, let's cut off the spectra at 9 keV in order to avoid noise driving the analysis, then rescale.</font>"
   ]
  },
  {
   "cell_type": "code",
   "execution_count": null,
   "metadata": {},
   "outputs": [],
   "source": [
    "specs=specs[:,:xref[xref<=9.0001].shape[0]]\n",
    "xref=xref[:xref[xref<=9.0001].shape[0]]\n",
    "\n",
    "scaled_specs=[]\n",
    "for i in tqdm(range(specs.shape[0])):\n",
    "    s=StandardScaler()\n",
    "    scaled_specs.append(s.fit_transform(specs[i].reshape(-1,1)).T[0])\n",
    "scaled_specs=np.array(scaled_specs)    "
   ]
  },
  {
   "cell_type": "markdown",
   "metadata": {},
   "source": [
    "<font size=\"3\">Plot the scaled and unscaled spectra for comparison</font>"
   ]
  },
  {
   "cell_type": "code",
   "execution_count": null,
   "metadata": {},
   "outputs": [],
   "source": [
    "xvals=np.tile(xref,(specs.shape[0],1))\n",
    "plt.figure(figsize=(10,6));\n",
    "plt.plot(xvals.T,scaled_specs.T);\n",
    "plt.xlabel('Energy (keV)');\n",
    "plt.ylabel('Scaled Normalized Count Rate (C/s)');\n",
    "plt.title('Scaled Eta Carinae RXTE Spectra (lin-lin)');\n",
    "\n",
    "plt.figure(figsize=(10,6));\n",
    "plt.plot(xvals.T,specs.T);\n",
    "plt.xlabel('Energy (keV)');\n",
    "plt.ylabel('Normalized Count Rate (C/s)');\n",
    "plt.title('Unscaled Eta Carinae RXTE Spectra (lin-lin)');"
   ]
  },
  {
   "cell_type": "markdown",
   "metadata": {},
   "source": [
    "<font size=\"3\">Great! The scaled spectra are now ready for analysis.  Let's see how Principal Component Analysis interprets the spectra in two dimensions...</font>"
   ]
  },
  {
   "cell_type": "code",
   "execution_count": null,
   "metadata": {},
   "outputs": [],
   "source": [
    "from sklearn.decomposition import PCA\n",
    "\n",
    "# For comparison, compute PCA\n",
    "pca=PCA(n_components=2)\n",
    "scaled_specs_pca=pca.fit_transform(scaled_specs)\n",
    "plt.figure(figsize=(8,8))\n",
    "plt.scatter(scaled_specs_pca[:,0],scaled_specs_pca[:,1]);\n",
    "plt.title('PCA-reduced Eta Carinae RXTE Spectra');\n",
    "plt.axis('off');"
   ]
  },
  {
   "cell_type": "markdown",
   "metadata": {},
   "source": [
    "<font size=\"3\">PCA preserves distance, but has no concept of high-dimensional groupings.  For comparison, compute TSNE, which can extract local high-dimensional relationships.\n",
    "</font>"
   ]
  },
  {
   "cell_type": "code",
   "execution_count": null,
   "metadata": {},
   "outputs": [],
   "source": [
    "from sklearn.manifold import TSNE\n",
    "\n",
    "tsne=TSNE(n_components=2)\n",
    "scaled_specs_tsne=tsne.fit_transform(scaled_specs)\n",
    "plt.figure(figsize=(8,8))\n",
    "plt.scatter(scaled_specs_tsne[:,0],scaled_specs_tsne[:,1]);\n",
    "plt.title('TSNE-reduced Eta Carinae RXTE Spectra');\n",
    "plt.axis('off');"
   ]
  },
  {
   "cell_type": "markdown",
   "metadata": {},
   "source": [
    "<font size=\"3\">TSNE indeed finds some local groupings, so let's check UMAP, which will allow us to understand local and global relationships.\n",
    "</font>"
   ]
  },
  {
   "cell_type": "code",
   "execution_count": null,
   "metadata": {},
   "outputs": [],
   "source": [
    "from umap import UMAP\n",
    "\n",
    "um=UMAP(random_state=1)\n",
    "scaled_specs_umap=um.fit_transform(scaled_specs)\n",
    "plt.figure(figsize=(8,8))\n",
    "plt.scatter(scaled_specs_umap[:,0],scaled_specs_umap[:,1]);\n",
    "plt.title('UMAP-reduced Eta Carinae RXTE Spectra');\n",
    "plt.axis('off');"
   ]
  },
  {
   "cell_type": "markdown",
   "metadata": {},
   "source": [
    "<font size=\"3\">PCA only represents distance between the high dimensional samples whereas TSNE can find local groupings.\n",
    "UMAP combines the two into a more intelligent representation that understands both local and global distance.\n",
    "Let's cluster the UMAP representation using DBSCAN....\n",
    "</font>"
   ]
  },
  {
   "cell_type": "code",
   "execution_count": null,
   "metadata": {},
   "outputs": [],
   "source": [
    "from sklearn.cluster import DBSCAN\n",
    "\n",
    "dbs=DBSCAN(eps=.6,min_samples=2)\n",
    "clusters=dbs.fit(scaled_specs_umap)\n",
    "labels=np.unique(clusters.labels_)\n",
    "plt.figure(figsize=(8,8))\n",
    "for i in range(len(np.unique(labels[labels>=0]))):\n",
    "    plt.scatter(scaled_specs_umap[clusters.labels_==i,0],scaled_specs_umap[clusters.labels_==i,1],label='Cluster '+str(i));\n",
    "plt.legend()\n",
    "plt.title('Clustered UMAP-reduced Eta Carinae RXTE Spectra');\n",
    "plt.axis('off');"
   ]
  },
  {
   "cell_type": "markdown",
   "metadata": {},
   "source": [
    "<font size=\"3\">The DBSCAN clustering produced some interesting groupings - we should examine the spectra of each group.\n",
    "For a less crowded plot of the spectra clusters, plot the mean spectrum of each cluster.\n",
    "</font>"
   ]
  },
  {
   "cell_type": "code",
   "execution_count": null,
   "metadata": {},
   "outputs": [],
   "source": [
    "# Plot the scaled spectra mean\n",
    "plt.figure(figsize=(10,6))\n",
    "for i in range(len(np.unique(labels[labels>=0]))):\n",
    "    plt.plot(xref,scaled_specs[clusters.labels_==i].mean(axis=0),label='Cluster '+str(i))\n",
    "plt.legend();\n",
    "plt.xlabel('Energy (keV)');\n",
    "plt.ylabel('Scaled Normalized Count Rate (C/s)');\n",
    "plt.title('Scaled Eta Carinae RXTE Spectra Cluster Mean (lin-lin)');\n",
    "\n",
    "# Plot the unscaled spectra mean\n",
    "plt.figure(figsize=(10,6))\n",
    "for i in range(len(np.unique(labels[labels>=0]))):\n",
    "    plt.plot(xref,specs[clusters.labels_==i].mean(axis=0),label='Cluster '+str(i))\n",
    "plt.legend();\n",
    "plt.xlabel('Energy (keV)');\n",
    "plt.ylabel('Normalized Count Rate (C/s)');\n",
    "plt.title('Unscaled Eta Carinae RXTE Spectra Cluster Mean (lin-lin)');\n"
   ]
  },
  {
   "cell_type": "markdown",
   "metadata": {},
   "source": [
    "<font size=\"3\">\n",
    "Clearly, the strangest spectra belong to cluster 1 (orange).\n",
    "How many spectra are in this group?\n",
    "</font>"
   ]
  },
  {
   "cell_type": "code",
   "execution_count": null,
   "metadata": {},
   "outputs": [],
   "source": [
    "scaled_specs[clusters.labels_==1].shape[0]"
   ]
  },
  {
   "cell_type": "markdown",
   "metadata": {},
   "source": [
    "<font size=\"3\">\n",
    "So, we can say that this group is not likely an isolated incident caused by mechanical malfunction\n",
    "since similar spectra occur in seven different observations.  Let's look at the overall light curve to see where these odd spectra are occuring.\n",
    "\n",
    "</font>"
   ]
  },
  {
   "cell_type": "code",
   "execution_count": null,
   "metadata": {},
   "outputs": [],
   "source": [
    "# Sum the count rate across the energy range\n",
    "specsum=specs.sum(axis=1)\n",
    "\n",
    "# plot the overall light curve\n",
    "plt.figure(figsize=(10,6))\n",
    "plt.scatter(times,specsum)\n",
    "plt.xlabel('Time (s)');\n",
    "plt.ylabel('Normalized Count Rate (C/s)');\n",
    "plt.title('2-9 keV Eta Carinae RXTE Light Curve');\n",
    "\n",
    "\n",
    "# plot the clustered light curve\n",
    "plt.figure(figsize=(10,6))\n",
    "for i in range(len(np.unique(labels[labels>=0]))):\n",
    "    plt.scatter(np.array(times)[clusters.labels_==i],specsum[clusters.labels_==i],label='Cluster '+str(i),alpha=1-.1*i)\n",
    "plt.xlabel('Time (s)');\n",
    "plt.ylabel('Normalized Count Rate (C/s)');\n",
    "plt.title('2-9 keV Eta Carinae RXTE Light Curve with Clustered Spectra');\n",
    "plt.legend();"
   ]
  },
  {
   "cell_type": "markdown",
   "metadata": {},
   "source": [
    "<font size=\"3\">\n",
    "We can see that the orange group occurred near the beginning of the RXTE mission.\n",
    "Let's take a closer look...\n",
    "</font>"
   ]
  },
  {
   "cell_type": "code",
   "execution_count": null,
   "metadata": {},
   "outputs": [],
   "source": [
    "# plot the clustered light curve\n",
    "plt.figure(figsize=(10,6))\n",
    "for i in range(len(np.unique(labels[labels>=0]))):\n",
    "    plt.scatter(np.array(times)[clusters.labels_==i],specsum[clusters.labels_==i],label='Cluster '+str(i))\n",
    "plt.xlabel('Time (s)');\n",
    "plt.ylabel('Normalized Count Rate (C/s)');\n",
    "plt.title('2-9 keV Eta Carinae RXTE Light Curve with Clustered Spectra');\n",
    "plt.legend();\n",
    "plt.xlim(.6e8,1e8);"
   ]
  },
  {
   "cell_type": "markdown",
   "metadata": {},
   "source": [
    "<font size=\"3\">\n",
    "Indeed, the orange group were the first seven observations of Eta Car from RXTE.\n",
    "Given that this type of spectra does not repeat again, the earlier hypothesis that these\n",
    "spectra are not due to mechanical issues must be revisted.\n",
    "Also, given that the blue group also lacks the 2-3 keV noise peak and is only located toward \n",
    "the beginning of the mission, it may be the case that the background estimation from \n",
    "that period of time differs substantially.\n",
    "\n",
    "So, what else is interesting?\n",
    "Cluster 5 (the brown group) occurs exclusively at the overall light curve minima.\n",
    "Looking again at the unscaled spectra means:\n",
    "</font>"
   ]
  },
  {
   "cell_type": "code",
   "execution_count": null,
   "metadata": {},
   "outputs": [],
   "source": [
    "# Plot the unscaled spectra mean\n",
    "plt.figure(figsize=(10,6))\n",
    "for i in range(len(np.unique(labels[labels>=0]))):\n",
    "    plt.plot(xref,specs[clusters.labels_==i].mean(axis=0),label='Cluster '+str(i))\n",
    "plt.legend();\n",
    "plt.xlabel('Energy (keV)');\n",
    "plt.ylabel('Normalized Count Rate (C/s)');\n",
    "plt.title('Unscaled Eta Carinae RXTE Spectra Cluster Mean (lin-lin)');"
   ]
  },
  {
   "cell_type": "markdown",
   "metadata": {},
   "source": [
    "<font size=\"3\">\n",
    "We can see that the broad peak associated with the 3-5 keV energy range is completely absent from the brown group.\n",
    "Since this phenomena is documented at both X-ray minimums from the latter part of the mission (the earlier minimum may\n",
    "be skewed by background estimation as well) we can say that this spectral difference is likely due to a substantial change\n",
    "in the nature of the Eta Carina stellar system at this time.\n",
    "\n",
    "\n",
    "Also interesting is the Green and Purple group relationship.  Let's exlude the earlier measurements, where we suspect the background\n",
    "estimation may be wrong, and show the overall light curve again:\n",
    "\n",
    "</font>"
   ]
  },
  {
   "cell_type": "code",
   "execution_count": null,
   "metadata": {},
   "outputs": [],
   "source": [
    "plt.figure(figsize=(10,6))\n",
    "for i in range(len(np.unique(labels[labels>=0]))):\n",
    "    plt.scatter(np.array(times)[clusters.labels_==i],specsum[clusters.labels_==i],label='Cluster '+str(i),alpha=1-.1*i)\n",
    "plt.xlabel('Time (s)');\n",
    "plt.ylabel('Normalized Count Rate (C/s)');\n",
    "plt.title('2-9 keV Eta Carinae RXTE Light Curve with Clustered Spectra');\n",
    "plt.legend();\n",
    "plt.xlim(2.1e8,5.8e8);"
   ]
  },
  {
   "cell_type": "markdown",
   "metadata": {},
   "source": [
    "<font size=\"3\">\n",
    "The green group, which has a lower 3-5 keV peak and a slightly higher energy peak in the 6-7 keV range than the purple group, \n",
    "appears to occur in conjunction with the purple group.  This may indicate the presence of two competing behaviors.\n",
    "</font>"
   ]
  },
  {
   "cell_type": "markdown",
   "metadata": {},
   "source": [
    "<font size=\"3\">With very little code, we have now gained a basic understanding of Eta Carinae from a minimal analysis of HEASARC data.</font>"
   ]
  }
 ],
 "metadata": {
  "kernelspec": {
   "display_name": "Python 3.8 (Heasarc)",
   "language": "python",
   "name": "python3.8"
  },
  "language_info": {
   "codemirror_mode": {
    "name": "ipython",
    "version": 3
   },
   "file_extension": ".py",
   "mimetype": "text/x-python",
   "name": "python",
   "nbconvert_exporter": "python",
   "pygments_lexer": "ipython3",
   "version": "3.8.5"
  }
 },
 "nbformat": 4,
 "nbformat_minor": 4
}
