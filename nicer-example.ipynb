{
 "cells": [
  {
   "cell_type": "markdown",
   "id": "d769899b-c732-4d01-b3a0-698002086770",
   "metadata": {},
   "source": [
    "## An Example Analysing NICER Data One Sciserver\n",
    "\n",
    "In this tutorial, we will go through the steps of analyzing a NICER observation of `PSR_B0833-45` (`obsid = 4142010107`) using `heasoftpy`.\n",
    "\n",
    "The following assumes this notebook is run from the (heasoft) environment on Sciserver. You should see `(Heasoft)` at the top right of the notebook. If not, click there and select `(Heasoft)`"
   ]
  },
  {
   "cell_type": "markdown",
   "id": "8921937b-051a-42a9-9dc5-8af30224d5a5",
   "metadata": {
    "tags": []
   },
   "source": [
    "### Update to heasoftpy 1.2 to make sure nicerl2 works correctly"
   ]
  },
  {
   "cell_type": "code",
   "execution_count": null,
   "id": "22f1d6b6-5759-41d5-b533-59367a334692",
   "metadata": {},
   "outputs": [],
   "source": [
    "import subprocess as subp\n",
    "import sys, os, glob\n",
    "from packaging import version\n",
    "import importlib\n",
    "\n",
    "\n",
    "## ------------------------------------ ##\n",
    "## Make sure heasoftpy version is > 1.1 ##\n",
    "## if not, grab the latest from github. ##\n",
    "=p = subp.Popen(['python', '-c', 'import heasoftpy as hsp; print(hsp.__version__)'], stdout=subp.PIPE)\n",
    "hsp_version = p.stdout.read().decode().strip()\n",
    "\n",
    "if version.parse(hsp_version) < version.parse('1.2'):\n",
    "    # get the latest develop version of heasoftpy and install it.\n",
    "    print(\"Using develop version from github\")\n",
    "    hsplib = os.getcwd() + '/heasoftpy-develop/build/lib'\n",
    "    if not os.path.exists(hsplib + '/heasoftpy'):\n",
    "        os.system('wget https://github.com/HEASARC/heasoftpy/archive/refs/heads/develop.zip')\n",
    "        os.system('unzip develop.zip && rm -f develop.zip')\n",
    "        os.system('cd heasoftpy-develop && python setup.py build')\n",
    "    sys.path.insert(0, hsplib)\n",
    "## ------------------------------------ ##\n",
    "\n",
    "import heasoftpy as hsp\n",
    "print(hsp.__file__)"
   ]
  },
  {
   "cell_type": "code",
   "execution_count": null,
   "id": "74331f47",
   "metadata": {
    "init_cell": true
   },
   "outputs": [],
   "source": [
    "# import other libraries\n",
    "import matplotlib.pyplot as plt\n",
    "import xspec\n",
    "from astropy.table import Table\n",
    "from astropy.time import Time\n",
    "from astropy.io import fits\n",
    "import astropy.units as u"
   ]
  },
  {
   "cell_type": "markdown",
   "id": "6ce36357",
   "metadata": {},
   "source": [
    "# Set up the NICER obsid directory\n",
    "\n",
    "We are using OBSID `4142010107`. The data archive is mounted under `/FTP/..`. To find the exact location of the observation, we can use `pyvo` to query the archive using the VO services, or use Xamin, as illustrated in the `Getting-Started` and `data_access` notebooks\n",
    "\n",
    "We'll put the output from nicerl2 in an output directory separate from the input directory.\n",
    "\n",
    "Because nicerl2 may modify of the observation directory, we copy it from the data location."
   ]
  },
  {
   "cell_type": "code",
   "execution_count": null,
   "id": "8a103eae-86e2-43d7-9b48-6472eff89c1d",
   "metadata": {},
   "outputs": [],
   "source": [
    "nicerobsID = '4020180460'\n",
    "dataLocation = f'/FTP/nicer/data/obs/2021_12/{nicerobsID}'\n",
    "if not os.path.exists(nicerobsID):\n",
    "    os.system(f\"cp -r {dataLocation} .\")\n",
    "obsdir = os.path.join('.', nicerobsID)\n",
    "outdir = os.path.join('.','nicerl2_output/'+nicerobsID+'_out')\n",
    "# if outdir doesn't exist, create it\n",
    "if not os.path.exists(outdir):\n",
    "    os.makedirs(outdir)\n",
    "    print(f'Created {outdir}')"
   ]
  },
  {
   "cell_type": "markdown",
   "id": "12b7c4cb",
   "metadata": {},
   "source": [
    "# Create the nicerl2 task"
   ]
  },
  {
   "cell_type": "code",
   "execution_count": null,
   "id": "b208ae68",
   "metadata": {},
   "outputs": [],
   "source": [
    "tstart = Time.now()\n",
    "print(f'Start at: {tstart.iso[:19]}')\n",
    "nicerl2 = hsp.HSPTask('nicerl2')\n",
    "\n",
    "nicerl2.clobber = \"yes\"\n",
    "nicerl2.indir = nicerobsID\n",
    "nicerl2.cldir = outdir\n",
    "nicerl2.noprompt = True\n",
    "\n",
    "# add the KP values to the mkf file during nicerl2 processing\n",
    "nicerl2.geomag_path = \"/FTP/caldb/data/gen/pcf/geomag/\"\n",
    "nicerl2.geomag_columns = \"kp_noaa.fits(KP)\"\n",
    "\n",
    "resl2 = nicerl2()\n",
    "\n",
    "tend = Time.now()\n",
    "print(f'End at: {tend.iso[:19]}')\n",
    "print(f'nicerl2 took: {(tend.mjd-tstart.mjd)*86400} seconds')\n",
    "\n",
    "if resl2.returncode != 0:\n",
    "    print('\\n')\n",
    "    for o in resl2.output[:]:\n",
    "        print(o)\n"
   ]
  },
  {
   "cell_type": "markdown",
   "id": "98560cc1",
   "metadata": {},
   "source": [
    "# Extract products from cleaned events file"
   ]
  },
  {
   "cell_type": "code",
   "execution_count": null,
   "id": "6daaa593",
   "metadata": {},
   "outputs": [],
   "source": [
    "clevt = f'{outdir}/ni{nicerobsID}_0mpu7_cl.evt'\n",
    "phafile = f'{outdir}/ni{nicerobsID}_0mpu7_cl.pha'\n",
    "lcfile = f'{outdir}/ni{nicerobsID}_0mpu7_cl.lc'\n",
    "res = hsp.extractor(filename=clevt, phafile=phafile, clobber='yes', binlc=10.0,fitsbinlc=lcfile, \n",
    "                    eventsout='NONE', imgfile='NONE', regionfile='NONE', timefile='NONE', tcol='TIME',\n",
    "                   ecol='PI', xcolf='RAWX', xcolh='RAWX',ycolf='RAWY', ycolh='RAWY', stokes='NONE')\n",
    "print(res.stdout)"
   ]
  },
  {
   "cell_type": "markdown",
   "id": "cc2d057c",
   "metadata": {},
   "source": [
    "# Analyzing NICER spectra"
   ]
  },
  {
   "cell_type": "code",
   "execution_count": null,
   "id": "303dbcab",
   "metadata": {},
   "outputs": [],
   "source": [
    "# get the on-axis rmf\n",
    "res = hsp.quzcif(mission='nicer', instrument='xti',detector='-',\n",
    "             filter='-', date='-', time='-',expr='-',codename='MATRIX')\n",
    "rmf = [x.split()[0] for x in res.output if 'nixtiref'  in x][0]\n",
    "\n",
    "# get the on-axis arf\n",
    "res = hsp.quzcif(mission='nicer', instrument='xti',detector='-',\n",
    "             filter='-', date='-', time='-',expr='-',codename='SPECRESP')\n",
    "arf = [x.split()[0] for x in res.output if 'nixtiaveonaxis'  in x][0]\n"
   ]
  },
  {
   "cell_type": "code",
   "execution_count": null,
   "id": "01854354",
   "metadata": {},
   "outputs": [],
   "source": [
    "# load the spectra (incldueing the response files) into xspec\n",
    "xspec.AllData.clear()\n",
    "spec = xspec.Spectrum(phafile)\n",
    "spec.response = rmf\n",
    "spec.response.arf = arf\n",
    "spec.ignore('0.0-0.3, 10.0-**')"
   ]
  },
  {
   "cell_type": "code",
   "execution_count": null,
   "id": "9aeabbab",
   "metadata": {
    "scrolled": true
   },
   "outputs": [],
   "source": [
    "# fit a simple absorbed broken powerlaw model\n",
    "model = xspec.Model('wabs*bknpow')\n",
    "xspec.Fit.perform()"
   ]
  },
  {
   "cell_type": "code",
   "execution_count": null,
   "id": "74e40ae9",
   "metadata": {},
   "outputs": [],
   "source": [
    "# plot the spectra using matplotlib\n",
    "\n",
    "%matplotlib inline\n",
    "xspec.Plot.device='/null'\n",
    "xspec.Plot.xAxis='keV'\n",
    "xspec.Plot('lda')\n",
    "cr = xspec.Plot.y()\n",
    "crerr = xspec.Plot.yErr()\n",
    "en = xspec.Plot.x()\n",
    "enwid = xspec.Plot.xErr()\n",
    "mop = xspec.Plot.model()\n",
    "target = fits.open(spec.fileName)[1].header['OBJECT']\n",
    "\n",
    "\n",
    "fig = plt.figure(figsize=[8,6])\n",
    "plt.ylabel('Cts/s/keV', fontsize=12)\n",
    "plt.xlabel('Energy (keV)', fontsize=12)\n",
    "plt.title('Target = '+target+' OBSID = '+nicerobsID+' wabs*bknpow', fontsize=12)\n",
    "plt.yscale('log')\n",
    "plt.xscale('log')\n",
    "plt.errorbar(en, cr, xerr=enwid, yerr=crerr, fmt='k.', alpha=0.2)\n",
    "plt.plot(en, mop,'r-')"
   ]
  },
  {
   "cell_type": "markdown",
   "id": "963b5e01",
   "metadata": {},
   "source": [
    "# Plot the lightcurve"
   ]
  },
  {
   "cell_type": "code",
   "execution_count": null,
   "id": "79ac517b",
   "metadata": {},
   "outputs": [],
   "source": [
    "lctab = Table.read(lcfile,hdu='RATE')\n",
    "gtitab = Table.read(lcfile, hdu='GTI')\n",
    "gtitab['START']=gtitab['START']-lctab.meta['TSTART']\n",
    "gtitab['STOP']=gtitab['STOP']-lctab.meta['TSTART']"
   ]
  },
  {
   "cell_type": "code",
   "execution_count": null,
   "id": "7b032f09",
   "metadata": {},
   "outputs": [],
   "source": [
    "gtitab"
   ]
  },
  {
   "cell_type": "code",
   "execution_count": null,
   "id": "759c5b32",
   "metadata": {},
   "outputs": [],
   "source": [
    "# remove rows with no values from gtitab\n",
    "row2remove=[]\n",
    "for j in enumerate(gtitab):\n",
    "    i=j[0]\n",
    "    tsel = (lctab['TIME']>=gtitab[i]['START']) & (lctab['TIME']<=gtitab[i]['STOP'])\n",
    "    if len(lctab[tsel]) < 1:\n",
    "        row2remove.append(i)\n",
    "gtitab.remove_rows(row2remove)\n",
    "numgtis = len(gtitab)"
   ]
  },
  {
   "cell_type": "code",
   "execution_count": null,
   "id": "e010ddf1",
   "metadata": {},
   "outputs": [],
   "source": [
    "%matplotlib inline\n",
    "fig, ax = plt.subplots(1,numgtis,figsize=[10,3])\n",
    "for i in range(numgtis):\n",
    "    tsel = (lctab['TIME']>gtitab[i]['START']) & (lctab['TIME']<gtitab[i]['STOP'])\n",
    "    t = lctab[tsel]['TIME']\n",
    "    print(i, len(lctab[tsel]))\n",
    "    r = lctab[tsel]['RATE']\n",
    "    re = lctab[tsel]['ERROR']\n",
    "    ax[i].set_ylabel('Cts/s', fontsize=12)\n",
    "    ax[i].set_xlabel('Time (s)', fontsize=12)\n",
    "    ax[i].set_yscale('log')\n",
    "    ax[i].set_ylim(40, 500)\n",
    "    ax[i].errorbar(t, r,yerr=re, fmt='k.')\n",
    "    plt.tight_layout()"
   ]
  },
  {
   "cell_type": "code",
   "execution_count": null,
   "id": "c04c0562",
   "metadata": {},
   "outputs": [],
   "source": []
  }
 ],
 "metadata": {
  "celltoolbar": "Initialization Cell",
  "kernelspec": {
   "display_name": "(Heasoft)",
   "language": "python",
   "name": "heasoft"
  },
  "language_info": {
   "codemirror_mode": {
    "name": "ipython",
    "version": 3
   },
   "file_extension": ".py",
   "mimetype": "text/x-python",
   "name": "python",
   "nbconvert_exporter": "python",
   "pygments_lexer": "ipython3",
   "version": "3.8.12"
  },
  "toc": {
   "base_numbering": 1,
   "nav_menu": {},
   "number_sections": false,
   "sideBar": true,
   "skip_h1_title": false,
   "title_cell": "Table of Contents",
   "title_sidebar": "Contents",
   "toc_cell": false,
   "toc_position": {
    "height": "calc(100% - 180px)",
    "left": "10px",
    "top": "150px",
    "width": "310px"
   },
   "toc_section_display": true,
   "toc_window_display": true
  },
  "varInspector": {
   "cols": {
    "lenName": 16,
    "lenType": 16,
    "lenVar": 40
   },
   "kernels_config": {
    "python": {
     "delete_cmd_postfix": "",
     "delete_cmd_prefix": "del ",
     "library": "var_list.py",
     "varRefreshCmd": "print(var_dic_list())"
    },
    "r": {
     "delete_cmd_postfix": ") ",
     "delete_cmd_prefix": "rm(",
     "library": "var_list.r",
     "varRefreshCmd": "cat(var_dic_list()) "
    }
   },
   "types_to_exclude": [
    "module",
    "function",
    "builtin_function_or_method",
    "instance",
    "_Feature"
   ],
   "window_display": false
  }
 },
 "nbformat": 4,
 "nbformat_minor": 5
}
